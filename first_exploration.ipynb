{
  "nbformat": 4,
  "nbformat_minor": 0,
  "metadata": {
    "colab": {
      "provenance": []
    },
    "kernelspec": {
      "name": "python3",
      "display_name": "Python 3"
    },
    "language_info": {
      "name": "python"
    }
  },
  "cells": [
    {
      "cell_type": "markdown",
      "source": [
        "#Data management: cleansing, integration and  a first analysis\n",
        "\n",
        "Our data: https://github.com/SunnyShikhar/music-datamining"
      ],
      "metadata": {
        "id": "tx2gjN9w5WVZ"
      }
    },
    {
      "cell_type": "code",
      "execution_count": 23,
      "metadata": {
        "id": "OcluxyZWF7IR"
      },
      "outputs": [],
      "source": [
        "import numpy as np\n",
        "import pandas as pd\n",
        "import matplotlib.pyplot as plt\n",
        "import seaborn as sns\n",
        "from pandas import Series"
      ]
    },
    {
      "cell_type": "code",
      "source": [
        "#creating the df from the csv file\n",
        "df_music = pd.read_csv('musicData.csv')\n",
        "\n",
        "# creating a new column containing the gender as a numerical value (in case needed), \n",
        "# we can avoid adding this new column if it's useless\n",
        "num_sex=[]\n",
        "for value in df_music['gender']:\n",
        "  if value == 'Male':\n",
        "    num_sex.append(0)\n",
        "  elif value == 'Female':\n",
        "    num_sex.append(1)\n",
        "  else :\n",
        "    num_sex.append(2)\n",
        "num_sex_col= pd.Series(num_sex).astype(int)\n",
        "df_music['sex_n']=num_sex_col\n",
        "\n",
        "#same for the amount of music and for trauma and genre\n",
        "\n",
        "#amount of music listened\n",
        "num_h=[]\n",
        "for value in df_music['amount_music']:\n",
        "  if \"0\" in value :\n",
        "    num_h.append(0)\n",
        "  elif '2' in value and '-' in value:\n",
        "    num_h.append(1)\n",
        "  elif '2+' in value  :\n",
        "    num_h.append(2)\n",
        "  elif '3+' in value:\n",
        "    num_h.append(3)\n",
        "  else:\n",
        "    num_h.append(value)\n",
        "num_h_col= pd.Series(num_h).astype(int)\n",
        "df_music['hours_n']=num_h_col\n",
        "\n",
        "# trauma\n",
        "num_tr=[]\n",
        "for value in df_music['trauma']:\n",
        "  if value == 'Yes':\n",
        "    num_tr.append(0)\n",
        "  elif value == 'No':\n",
        "    num_tr.append(1)\n",
        "  \n",
        "num_tr_col= pd.Series(num_tr).astype(int)\n",
        "df_music['tr_n']=num_tr_col\n",
        "\n",
        "\n",
        "#printing the head of the dataframe\n",
        "df_music.head()"
      ],
      "metadata": {
        "colab": {
          "base_uri": "https://localhost:8080/",
          "height": 490
        },
        "id": "-5TL5eimGQKZ",
        "outputId": "e57ad7fd-db46-4d09-95b2-0a85a8cb502e"
      },
      "execution_count": 26,
      "outputs": [
        {
          "output_type": "execute_result",
          "data": {
            "text/plain": [
              "             timestamp  gender      age amount_music  life_enjoyment  \\\n",
              "0  05/11/2016 14:34:00    Male  18 - 30        1 - 2               4   \n",
              "1  05/11/2016 14:45:26    Male  18 - 30        1 - 2               6   \n",
              "2  05/11/2016 14:45:41  Female  18 - 30        0 - 1               5   \n",
              "3  05/11/2016 14:45:55    Male  18 - 30           2+               3   \n",
              "4  05/11/2016 14:49:15  Female  18 - 30        0 - 1               2   \n",
              "\n",
              "   resilience  balanced_life  emotional_flex  self_actualization  \\\n",
              "0           3              5               3                   6   \n",
              "1           6              3               5                   5   \n",
              "2           5              4               4                   5   \n",
              "3           6              5               5                   5   \n",
              "4           5              2               1                   5   \n",
              "\n",
              "                                     song1  ... liveness valence     tempo  \\\n",
              "0                           Too Good Drake  ...   0.1100  0.5715   98.3680   \n",
              "1  Put that on my set asap rocky ft skepta  ...   0.1160  0.1560  121.1270   \n",
              "2                   Fireproof Coleman Hell  ...   0.1835  0.6185  125.0090   \n",
              "3                   Eyes Nose Lips TaeYang  ...   0.1489  0.5960  113.5760   \n",
              "4                         Sugar Wanderlust  ...   0.2155  0.2915  122.4605   \n",
              "\n",
              "   instrumental  acoustic  popularity  health_categorical  sex_n  hours_n  \\\n",
              "0      0.000025  0.281600   71.500000                 1.0      0        1   \n",
              "1      0.000000  0.056600   65.000000                 1.0      0        1   \n",
              "2      0.000023  0.053800   63.500000                 1.0      1        0   \n",
              "3      0.000001  0.348867   60.333333                 1.0      0        2   \n",
              "4      0.464350  0.599500    3.000000                 0.0      1        0   \n",
              "\n",
              "   tr_n  \n",
              "0     1  \n",
              "1     1  \n",
              "2     1  \n",
              "3     1  \n",
              "4     0  \n",
              "\n",
              "[5 rows x 27 columns]"
            ],
            "text/html": [
              "\n",
              "  <div id=\"df-df570c8d-a841-4c7c-ae6c-5a331b1d435d\">\n",
              "    <div class=\"colab-df-container\">\n",
              "      <div>\n",
              "<style scoped>\n",
              "    .dataframe tbody tr th:only-of-type {\n",
              "        vertical-align: middle;\n",
              "    }\n",
              "\n",
              "    .dataframe tbody tr th {\n",
              "        vertical-align: top;\n",
              "    }\n",
              "\n",
              "    .dataframe thead th {\n",
              "        text-align: right;\n",
              "    }\n",
              "</style>\n",
              "<table border=\"1\" class=\"dataframe\">\n",
              "  <thead>\n",
              "    <tr style=\"text-align: right;\">\n",
              "      <th></th>\n",
              "      <th>timestamp</th>\n",
              "      <th>gender</th>\n",
              "      <th>age</th>\n",
              "      <th>amount_music</th>\n",
              "      <th>life_enjoyment</th>\n",
              "      <th>resilience</th>\n",
              "      <th>balanced_life</th>\n",
              "      <th>emotional_flex</th>\n",
              "      <th>self_actualization</th>\n",
              "      <th>song1</th>\n",
              "      <th>...</th>\n",
              "      <th>liveness</th>\n",
              "      <th>valence</th>\n",
              "      <th>tempo</th>\n",
              "      <th>instrumental</th>\n",
              "      <th>acoustic</th>\n",
              "      <th>popularity</th>\n",
              "      <th>health_categorical</th>\n",
              "      <th>sex_n</th>\n",
              "      <th>hours_n</th>\n",
              "      <th>tr_n</th>\n",
              "    </tr>\n",
              "  </thead>\n",
              "  <tbody>\n",
              "    <tr>\n",
              "      <th>0</th>\n",
              "      <td>05/11/2016 14:34:00</td>\n",
              "      <td>Male</td>\n",
              "      <td>18 - 30</td>\n",
              "      <td>1 - 2</td>\n",
              "      <td>4</td>\n",
              "      <td>3</td>\n",
              "      <td>5</td>\n",
              "      <td>3</td>\n",
              "      <td>6</td>\n",
              "      <td>Too Good Drake</td>\n",
              "      <td>...</td>\n",
              "      <td>0.1100</td>\n",
              "      <td>0.5715</td>\n",
              "      <td>98.3680</td>\n",
              "      <td>0.000025</td>\n",
              "      <td>0.281600</td>\n",
              "      <td>71.500000</td>\n",
              "      <td>1.0</td>\n",
              "      <td>0</td>\n",
              "      <td>1</td>\n",
              "      <td>1</td>\n",
              "    </tr>\n",
              "    <tr>\n",
              "      <th>1</th>\n",
              "      <td>05/11/2016 14:45:26</td>\n",
              "      <td>Male</td>\n",
              "      <td>18 - 30</td>\n",
              "      <td>1 - 2</td>\n",
              "      <td>6</td>\n",
              "      <td>6</td>\n",
              "      <td>3</td>\n",
              "      <td>5</td>\n",
              "      <td>5</td>\n",
              "      <td>Put that on my set asap rocky ft skepta</td>\n",
              "      <td>...</td>\n",
              "      <td>0.1160</td>\n",
              "      <td>0.1560</td>\n",
              "      <td>121.1270</td>\n",
              "      <td>0.000000</td>\n",
              "      <td>0.056600</td>\n",
              "      <td>65.000000</td>\n",
              "      <td>1.0</td>\n",
              "      <td>0</td>\n",
              "      <td>1</td>\n",
              "      <td>1</td>\n",
              "    </tr>\n",
              "    <tr>\n",
              "      <th>2</th>\n",
              "      <td>05/11/2016 14:45:41</td>\n",
              "      <td>Female</td>\n",
              "      <td>18 - 30</td>\n",
              "      <td>0 - 1</td>\n",
              "      <td>5</td>\n",
              "      <td>5</td>\n",
              "      <td>4</td>\n",
              "      <td>4</td>\n",
              "      <td>5</td>\n",
              "      <td>Fireproof Coleman Hell</td>\n",
              "      <td>...</td>\n",
              "      <td>0.1835</td>\n",
              "      <td>0.6185</td>\n",
              "      <td>125.0090</td>\n",
              "      <td>0.000023</td>\n",
              "      <td>0.053800</td>\n",
              "      <td>63.500000</td>\n",
              "      <td>1.0</td>\n",
              "      <td>1</td>\n",
              "      <td>0</td>\n",
              "      <td>1</td>\n",
              "    </tr>\n",
              "    <tr>\n",
              "      <th>3</th>\n",
              "      <td>05/11/2016 14:45:55</td>\n",
              "      <td>Male</td>\n",
              "      <td>18 - 30</td>\n",
              "      <td>2+</td>\n",
              "      <td>3</td>\n",
              "      <td>6</td>\n",
              "      <td>5</td>\n",
              "      <td>5</td>\n",
              "      <td>5</td>\n",
              "      <td>Eyes Nose Lips TaeYang</td>\n",
              "      <td>...</td>\n",
              "      <td>0.1489</td>\n",
              "      <td>0.5960</td>\n",
              "      <td>113.5760</td>\n",
              "      <td>0.000001</td>\n",
              "      <td>0.348867</td>\n",
              "      <td>60.333333</td>\n",
              "      <td>1.0</td>\n",
              "      <td>0</td>\n",
              "      <td>2</td>\n",
              "      <td>1</td>\n",
              "    </tr>\n",
              "    <tr>\n",
              "      <th>4</th>\n",
              "      <td>05/11/2016 14:49:15</td>\n",
              "      <td>Female</td>\n",
              "      <td>18 - 30</td>\n",
              "      <td>0 - 1</td>\n",
              "      <td>2</td>\n",
              "      <td>5</td>\n",
              "      <td>2</td>\n",
              "      <td>1</td>\n",
              "      <td>5</td>\n",
              "      <td>Sugar Wanderlust</td>\n",
              "      <td>...</td>\n",
              "      <td>0.2155</td>\n",
              "      <td>0.2915</td>\n",
              "      <td>122.4605</td>\n",
              "      <td>0.464350</td>\n",
              "      <td>0.599500</td>\n",
              "      <td>3.000000</td>\n",
              "      <td>0.0</td>\n",
              "      <td>1</td>\n",
              "      <td>0</td>\n",
              "      <td>0</td>\n",
              "    </tr>\n",
              "  </tbody>\n",
              "</table>\n",
              "<p>5 rows × 27 columns</p>\n",
              "</div>\n",
              "      <button class=\"colab-df-convert\" onclick=\"convertToInteractive('df-df570c8d-a841-4c7c-ae6c-5a331b1d435d')\"\n",
              "              title=\"Convert this dataframe to an interactive table.\"\n",
              "              style=\"display:none;\">\n",
              "        \n",
              "  <svg xmlns=\"http://www.w3.org/2000/svg\" height=\"24px\"viewBox=\"0 0 24 24\"\n",
              "       width=\"24px\">\n",
              "    <path d=\"M0 0h24v24H0V0z\" fill=\"none\"/>\n",
              "    <path d=\"M18.56 5.44l.94 2.06.94-2.06 2.06-.94-2.06-.94-.94-2.06-.94 2.06-2.06.94zm-11 1L8.5 8.5l.94-2.06 2.06-.94-2.06-.94L8.5 2.5l-.94 2.06-2.06.94zm10 10l.94 2.06.94-2.06 2.06-.94-2.06-.94-.94-2.06-.94 2.06-2.06.94z\"/><path d=\"M17.41 7.96l-1.37-1.37c-.4-.4-.92-.59-1.43-.59-.52 0-1.04.2-1.43.59L10.3 9.45l-7.72 7.72c-.78.78-.78 2.05 0 2.83L4 21.41c.39.39.9.59 1.41.59.51 0 1.02-.2 1.41-.59l7.78-7.78 2.81-2.81c.8-.78.8-2.07 0-2.86zM5.41 20L4 18.59l7.72-7.72 1.47 1.35L5.41 20z\"/>\n",
              "  </svg>\n",
              "      </button>\n",
              "      \n",
              "  <style>\n",
              "    .colab-df-container {\n",
              "      display:flex;\n",
              "      flex-wrap:wrap;\n",
              "      gap: 12px;\n",
              "    }\n",
              "\n",
              "    .colab-df-convert {\n",
              "      background-color: #E8F0FE;\n",
              "      border: none;\n",
              "      border-radius: 50%;\n",
              "      cursor: pointer;\n",
              "      display: none;\n",
              "      fill: #1967D2;\n",
              "      height: 32px;\n",
              "      padding: 0 0 0 0;\n",
              "      width: 32px;\n",
              "    }\n",
              "\n",
              "    .colab-df-convert:hover {\n",
              "      background-color: #E2EBFA;\n",
              "      box-shadow: 0px 1px 2px rgba(60, 64, 67, 0.3), 0px 1px 3px 1px rgba(60, 64, 67, 0.15);\n",
              "      fill: #174EA6;\n",
              "    }\n",
              "\n",
              "    [theme=dark] .colab-df-convert {\n",
              "      background-color: #3B4455;\n",
              "      fill: #D2E3FC;\n",
              "    }\n",
              "\n",
              "    [theme=dark] .colab-df-convert:hover {\n",
              "      background-color: #434B5C;\n",
              "      box-shadow: 0px 1px 3px 1px rgba(0, 0, 0, 0.15);\n",
              "      filter: drop-shadow(0px 1px 2px rgba(0, 0, 0, 0.3));\n",
              "      fill: #FFFFFF;\n",
              "    }\n",
              "  </style>\n",
              "\n",
              "      <script>\n",
              "        const buttonEl =\n",
              "          document.querySelector('#df-df570c8d-a841-4c7c-ae6c-5a331b1d435d button.colab-df-convert');\n",
              "        buttonEl.style.display =\n",
              "          google.colab.kernel.accessAllowed ? 'block' : 'none';\n",
              "\n",
              "        async function convertToInteractive(key) {\n",
              "          const element = document.querySelector('#df-df570c8d-a841-4c7c-ae6c-5a331b1d435d');\n",
              "          const dataTable =\n",
              "            await google.colab.kernel.invokeFunction('convertToInteractive',\n",
              "                                                     [key], {});\n",
              "          if (!dataTable) return;\n",
              "\n",
              "          const docLinkHtml = 'Like what you see? Visit the ' +\n",
              "            '<a target=\"_blank\" href=https://colab.research.google.com/notebooks/data_table.ipynb>data table notebook</a>'\n",
              "            + ' to learn more about interactive tables.';\n",
              "          element.innerHTML = '';\n",
              "          dataTable['output_type'] = 'display_data';\n",
              "          await google.colab.output.renderOutput(dataTable, element);\n",
              "          const docLink = document.createElement('div');\n",
              "          docLink.innerHTML = docLinkHtml;\n",
              "          element.appendChild(docLink);\n",
              "        }\n",
              "      </script>\n",
              "    </div>\n",
              "  </div>\n",
              "  "
            ]
          },
          "metadata": {},
          "execution_count": 26
        }
      ]
    },
    {
      "cell_type": "code",
      "source": [
        "#null values\n",
        "pd.isnull(df_music).sum()"
      ],
      "metadata": {
        "colab": {
          "base_uri": "https://localhost:8080/"
        },
        "id": "pK-q5xEsIif_",
        "outputId": "a4e3452f-f3a4-4613-bb9c-5ea8b2621b21"
      },
      "execution_count": 27,
      "outputs": [
        {
          "output_type": "execute_result",
          "data": {
            "text/plain": [
              "timestamp             0\n",
              "gender                0\n",
              "age                   0\n",
              "amount_music          0\n",
              "life_enjoyment        0\n",
              "resilience            0\n",
              "balanced_life         0\n",
              "emotional_flex        0\n",
              "self_actualization    0\n",
              "song1                 0\n",
              "song2                 0\n",
              "song3                 0\n",
              "trauma                0\n",
              "id                    0\n",
              "total_health          0\n",
              "energy                5\n",
              "dance                 5\n",
              "liveness              5\n",
              "valence               5\n",
              "tempo                 5\n",
              "instrumental          5\n",
              "acoustic              5\n",
              "popularity            5\n",
              "health_categorical    0\n",
              "sex_n                 0\n",
              "hours_n               0\n",
              "tr_n                  0\n",
              "dtype: int64"
            ]
          },
          "metadata": {},
          "execution_count": 27
        }
      ]
    },
    {
      "cell_type": "code",
      "source": [
        "a=list(df_music['amount_music'])\n",
        "a\n",
        "# manually checking these values we can notice that some of them are not included in the 3 considered intervals ( e.g 3+, 5 and 9)"
      ],
      "metadata": {
        "id": "a79VxA1sTjmX"
      },
      "execution_count": null,
      "outputs": []
    },
    {
      "cell_type": "code",
      "source": [
        "df_music.info()"
      ],
      "metadata": {
        "colab": {
          "base_uri": "https://localhost:8080/"
        },
        "id": "b7MvDE_bI50G",
        "outputId": "0b400a0e-fd58-4989-be92-8650bd493300"
      },
      "execution_count": 60,
      "outputs": [
        {
          "output_type": "stream",
          "name": "stdout",
          "text": [
            "<class 'pandas.core.frame.DataFrame'>\n",
            "RangeIndex: 235 entries, 0 to 234\n",
            "Data columns (total 27 columns):\n",
            " #   Column              Non-Null Count  Dtype  \n",
            "---  ------              --------------  -----  \n",
            " 0   timestamp           235 non-null    object \n",
            " 1   gender              235 non-null    object \n",
            " 2   age                 235 non-null    object \n",
            " 3   amount_music        235 non-null    object \n",
            " 4   life_enjoyment      235 non-null    int64  \n",
            " 5   resilience          235 non-null    int64  \n",
            " 6   balanced_life       235 non-null    int64  \n",
            " 7   emotional_flex      235 non-null    int64  \n",
            " 8   self_actualization  235 non-null    int64  \n",
            " 9   song1               235 non-null    object \n",
            " 10  song2               235 non-null    object \n",
            " 11  song3               235 non-null    object \n",
            " 12  trauma              235 non-null    object \n",
            " 13  id                  235 non-null    int64  \n",
            " 14  total_health        235 non-null    int64  \n",
            " 15  energy              230 non-null    float64\n",
            " 16  dance               230 non-null    float64\n",
            " 17  liveness            230 non-null    float64\n",
            " 18  valence             230 non-null    float64\n",
            " 19  tempo               230 non-null    float64\n",
            " 20  instrumental        230 non-null    float64\n",
            " 21  acoustic            230 non-null    float64\n",
            " 22  popularity          230 non-null    float64\n",
            " 23  health_categorical  235 non-null    float64\n",
            " 24  sex_n               235 non-null    int32  \n",
            " 25  hours_n             235 non-null    int32  \n",
            " 26  tr_n                235 non-null    int32  \n",
            "dtypes: float64(9), int32(3), int64(7), object(8)\n",
            "memory usage: 46.9+ KB\n"
          ]
        }
      ]
    },
    {
      "cell_type": "markdown",
      "source": [],
      "metadata": {
        "id": "EJEfoiRDI0L4"
      }
    },
    {
      "cell_type": "markdown",
      "source": [
        "# Data cleansing!\n",
        "\n",
        "Do some data cleanses:\n",
        "- remove blank spaces\n",
        " - separate titles from artists;\n",
        " - gain data from links to youtube; <br>\n",
        "\n",
        "The authors of the previous studies seem to have done this searching for the strings containing title + artist in the spotify api.\n",
        "\n",
        "[Library for splitting song names from artists](https://pypi.org/project/SongNameSplit/) <br>\n",
        "[Advanced query syntax Spotify](http://web.archive.org/web/20120704131650/http://www.spotify.com/us/about/features/advanced-search-syntax/) (boh???)\n",
        "\n",
        "https://github.com/enjuichang/PracticalDataScience-ENCA (useful?)"
      ],
      "metadata": {
        "id": "IJucuG8gI3CB"
      }
    },
    {
      "cell_type": "markdown",
      "source": [
        "# Descriptive statistics"
      ],
      "metadata": {
        "id": "kEF5J60lKkTo"
      }
    },
    {
      "cell_type": "code",
      "source": [
        "df_music.describe().transpose()\n",
        "#we could make observations about mean, median, standard deviation (?)"
      ],
      "metadata": {
        "colab": {
          "base_uri": "https://localhost:8080/",
          "height": 645
        },
        "id": "MVf5XzMqKP_O",
        "outputId": "bc31b6cd-d837-4503-a2f2-83edfddb71f2"
      },
      "execution_count": 28,
      "outputs": [
        {
          "output_type": "execute_result",
          "data": {
            "text/plain": [
              "                    count        mean        std        min         25%  \\\n",
              "life_enjoyment      235.0    3.434043   1.413802   0.000000    3.000000   \n",
              "resilience          235.0    4.017021   1.310594   0.000000    3.000000   \n",
              "balanced_life       235.0    3.629787   1.406322   0.000000    2.500000   \n",
              "emotional_flex      235.0    3.651064   1.529465   0.000000    3.000000   \n",
              "self_actualization  235.0    4.306383   1.355490   0.000000    4.000000   \n",
              "id                  235.0  117.000000  67.982841   0.000000   58.500000   \n",
              "total_health        235.0   19.038298   4.715249   6.000000   16.000000   \n",
              "energy              230.0    0.632621   0.140835   0.143000    0.544250   \n",
              "dance               230.0    0.624728   0.120391   0.175000    0.547500   \n",
              "liveness            230.0    0.187970   0.095937   0.068300    0.119208   \n",
              "valence             230.0    0.452428   0.151034   0.060350    0.352975   \n",
              "tempo               230.0  124.053220  19.897770  62.808500  110.033917   \n",
              "instrumental        230.0    0.062103   0.160389   0.000000    0.000003   \n",
              "acoustic            230.0    0.219790   0.191294   0.000229    0.070134   \n",
              "popularity          230.0   62.578261  14.050928   3.000000   53.750000   \n",
              "health_categorical  235.0    0.761702   0.426952   0.000000    1.000000   \n",
              "sex_n               235.0    0.553191   0.515093   0.000000    0.000000   \n",
              "hours_n             235.0    1.357447   0.933641   0.000000    1.000000   \n",
              "tr_n                235.0    0.617021   0.487151   0.000000    0.000000   \n",
              "\n",
              "                           50%         75%         max  \n",
              "life_enjoyment        3.000000    4.000000    6.000000  \n",
              "resilience            4.000000    5.000000    6.000000  \n",
              "balanced_life         4.000000    5.000000    6.000000  \n",
              "emotional_flex        4.000000    5.000000    6.000000  \n",
              "self_actualization    5.000000    5.000000    6.000000  \n",
              "id                  117.000000  175.500000  234.000000  \n",
              "total_health         20.000000   22.000000   30.000000  \n",
              "energy                0.640667    0.712167    0.967667  \n",
              "dance                 0.637167    0.709500    0.896000  \n",
              "liveness              0.164333    0.221000    0.799000  \n",
              "valence               0.452000    0.545583    0.881000  \n",
              "tempo               122.322667  138.736250  173.330000  \n",
              "instrumental          0.000171    0.007138    0.933000  \n",
              "acoustic              0.178405    0.316625    0.937000  \n",
              "popularity           65.000000   74.250000   86.000000  \n",
              "health_categorical    1.000000    1.000000    1.000000  \n",
              "sex_n                 1.000000    1.000000    2.000000  \n",
              "hours_n               1.000000    2.000000    9.000000  \n",
              "tr_n                  1.000000    1.000000    1.000000  "
            ],
            "text/html": [
              "\n",
              "  <div id=\"df-111c18f9-5f79-4906-87e7-394472e9d4ee\">\n",
              "    <div class=\"colab-df-container\">\n",
              "      <div>\n",
              "<style scoped>\n",
              "    .dataframe tbody tr th:only-of-type {\n",
              "        vertical-align: middle;\n",
              "    }\n",
              "\n",
              "    .dataframe tbody tr th {\n",
              "        vertical-align: top;\n",
              "    }\n",
              "\n",
              "    .dataframe thead th {\n",
              "        text-align: right;\n",
              "    }\n",
              "</style>\n",
              "<table border=\"1\" class=\"dataframe\">\n",
              "  <thead>\n",
              "    <tr style=\"text-align: right;\">\n",
              "      <th></th>\n",
              "      <th>count</th>\n",
              "      <th>mean</th>\n",
              "      <th>std</th>\n",
              "      <th>min</th>\n",
              "      <th>25%</th>\n",
              "      <th>50%</th>\n",
              "      <th>75%</th>\n",
              "      <th>max</th>\n",
              "    </tr>\n",
              "  </thead>\n",
              "  <tbody>\n",
              "    <tr>\n",
              "      <th>life_enjoyment</th>\n",
              "      <td>235.0</td>\n",
              "      <td>3.434043</td>\n",
              "      <td>1.413802</td>\n",
              "      <td>0.000000</td>\n",
              "      <td>3.000000</td>\n",
              "      <td>3.000000</td>\n",
              "      <td>4.000000</td>\n",
              "      <td>6.000000</td>\n",
              "    </tr>\n",
              "    <tr>\n",
              "      <th>resilience</th>\n",
              "      <td>235.0</td>\n",
              "      <td>4.017021</td>\n",
              "      <td>1.310594</td>\n",
              "      <td>0.000000</td>\n",
              "      <td>3.000000</td>\n",
              "      <td>4.000000</td>\n",
              "      <td>5.000000</td>\n",
              "      <td>6.000000</td>\n",
              "    </tr>\n",
              "    <tr>\n",
              "      <th>balanced_life</th>\n",
              "      <td>235.0</td>\n",
              "      <td>3.629787</td>\n",
              "      <td>1.406322</td>\n",
              "      <td>0.000000</td>\n",
              "      <td>2.500000</td>\n",
              "      <td>4.000000</td>\n",
              "      <td>5.000000</td>\n",
              "      <td>6.000000</td>\n",
              "    </tr>\n",
              "    <tr>\n",
              "      <th>emotional_flex</th>\n",
              "      <td>235.0</td>\n",
              "      <td>3.651064</td>\n",
              "      <td>1.529465</td>\n",
              "      <td>0.000000</td>\n",
              "      <td>3.000000</td>\n",
              "      <td>4.000000</td>\n",
              "      <td>5.000000</td>\n",
              "      <td>6.000000</td>\n",
              "    </tr>\n",
              "    <tr>\n",
              "      <th>self_actualization</th>\n",
              "      <td>235.0</td>\n",
              "      <td>4.306383</td>\n",
              "      <td>1.355490</td>\n",
              "      <td>0.000000</td>\n",
              "      <td>4.000000</td>\n",
              "      <td>5.000000</td>\n",
              "      <td>5.000000</td>\n",
              "      <td>6.000000</td>\n",
              "    </tr>\n",
              "    <tr>\n",
              "      <th>id</th>\n",
              "      <td>235.0</td>\n",
              "      <td>117.000000</td>\n",
              "      <td>67.982841</td>\n",
              "      <td>0.000000</td>\n",
              "      <td>58.500000</td>\n",
              "      <td>117.000000</td>\n",
              "      <td>175.500000</td>\n",
              "      <td>234.000000</td>\n",
              "    </tr>\n",
              "    <tr>\n",
              "      <th>total_health</th>\n",
              "      <td>235.0</td>\n",
              "      <td>19.038298</td>\n",
              "      <td>4.715249</td>\n",
              "      <td>6.000000</td>\n",
              "      <td>16.000000</td>\n",
              "      <td>20.000000</td>\n",
              "      <td>22.000000</td>\n",
              "      <td>30.000000</td>\n",
              "    </tr>\n",
              "    <tr>\n",
              "      <th>energy</th>\n",
              "      <td>230.0</td>\n",
              "      <td>0.632621</td>\n",
              "      <td>0.140835</td>\n",
              "      <td>0.143000</td>\n",
              "      <td>0.544250</td>\n",
              "      <td>0.640667</td>\n",
              "      <td>0.712167</td>\n",
              "      <td>0.967667</td>\n",
              "    </tr>\n",
              "    <tr>\n",
              "      <th>dance</th>\n",
              "      <td>230.0</td>\n",
              "      <td>0.624728</td>\n",
              "      <td>0.120391</td>\n",
              "      <td>0.175000</td>\n",
              "      <td>0.547500</td>\n",
              "      <td>0.637167</td>\n",
              "      <td>0.709500</td>\n",
              "      <td>0.896000</td>\n",
              "    </tr>\n",
              "    <tr>\n",
              "      <th>liveness</th>\n",
              "      <td>230.0</td>\n",
              "      <td>0.187970</td>\n",
              "      <td>0.095937</td>\n",
              "      <td>0.068300</td>\n",
              "      <td>0.119208</td>\n",
              "      <td>0.164333</td>\n",
              "      <td>0.221000</td>\n",
              "      <td>0.799000</td>\n",
              "    </tr>\n",
              "    <tr>\n",
              "      <th>valence</th>\n",
              "      <td>230.0</td>\n",
              "      <td>0.452428</td>\n",
              "      <td>0.151034</td>\n",
              "      <td>0.060350</td>\n",
              "      <td>0.352975</td>\n",
              "      <td>0.452000</td>\n",
              "      <td>0.545583</td>\n",
              "      <td>0.881000</td>\n",
              "    </tr>\n",
              "    <tr>\n",
              "      <th>tempo</th>\n",
              "      <td>230.0</td>\n",
              "      <td>124.053220</td>\n",
              "      <td>19.897770</td>\n",
              "      <td>62.808500</td>\n",
              "      <td>110.033917</td>\n",
              "      <td>122.322667</td>\n",
              "      <td>138.736250</td>\n",
              "      <td>173.330000</td>\n",
              "    </tr>\n",
              "    <tr>\n",
              "      <th>instrumental</th>\n",
              "      <td>230.0</td>\n",
              "      <td>0.062103</td>\n",
              "      <td>0.160389</td>\n",
              "      <td>0.000000</td>\n",
              "      <td>0.000003</td>\n",
              "      <td>0.000171</td>\n",
              "      <td>0.007138</td>\n",
              "      <td>0.933000</td>\n",
              "    </tr>\n",
              "    <tr>\n",
              "      <th>acoustic</th>\n",
              "      <td>230.0</td>\n",
              "      <td>0.219790</td>\n",
              "      <td>0.191294</td>\n",
              "      <td>0.000229</td>\n",
              "      <td>0.070134</td>\n",
              "      <td>0.178405</td>\n",
              "      <td>0.316625</td>\n",
              "      <td>0.937000</td>\n",
              "    </tr>\n",
              "    <tr>\n",
              "      <th>popularity</th>\n",
              "      <td>230.0</td>\n",
              "      <td>62.578261</td>\n",
              "      <td>14.050928</td>\n",
              "      <td>3.000000</td>\n",
              "      <td>53.750000</td>\n",
              "      <td>65.000000</td>\n",
              "      <td>74.250000</td>\n",
              "      <td>86.000000</td>\n",
              "    </tr>\n",
              "    <tr>\n",
              "      <th>health_categorical</th>\n",
              "      <td>235.0</td>\n",
              "      <td>0.761702</td>\n",
              "      <td>0.426952</td>\n",
              "      <td>0.000000</td>\n",
              "      <td>1.000000</td>\n",
              "      <td>1.000000</td>\n",
              "      <td>1.000000</td>\n",
              "      <td>1.000000</td>\n",
              "    </tr>\n",
              "    <tr>\n",
              "      <th>sex_n</th>\n",
              "      <td>235.0</td>\n",
              "      <td>0.553191</td>\n",
              "      <td>0.515093</td>\n",
              "      <td>0.000000</td>\n",
              "      <td>0.000000</td>\n",
              "      <td>1.000000</td>\n",
              "      <td>1.000000</td>\n",
              "      <td>2.000000</td>\n",
              "    </tr>\n",
              "    <tr>\n",
              "      <th>hours_n</th>\n",
              "      <td>235.0</td>\n",
              "      <td>1.357447</td>\n",
              "      <td>0.933641</td>\n",
              "      <td>0.000000</td>\n",
              "      <td>1.000000</td>\n",
              "      <td>1.000000</td>\n",
              "      <td>2.000000</td>\n",
              "      <td>9.000000</td>\n",
              "    </tr>\n",
              "    <tr>\n",
              "      <th>tr_n</th>\n",
              "      <td>235.0</td>\n",
              "      <td>0.617021</td>\n",
              "      <td>0.487151</td>\n",
              "      <td>0.000000</td>\n",
              "      <td>0.000000</td>\n",
              "      <td>1.000000</td>\n",
              "      <td>1.000000</td>\n",
              "      <td>1.000000</td>\n",
              "    </tr>\n",
              "  </tbody>\n",
              "</table>\n",
              "</div>\n",
              "      <button class=\"colab-df-convert\" onclick=\"convertToInteractive('df-111c18f9-5f79-4906-87e7-394472e9d4ee')\"\n",
              "              title=\"Convert this dataframe to an interactive table.\"\n",
              "              style=\"display:none;\">\n",
              "        \n",
              "  <svg xmlns=\"http://www.w3.org/2000/svg\" height=\"24px\"viewBox=\"0 0 24 24\"\n",
              "       width=\"24px\">\n",
              "    <path d=\"M0 0h24v24H0V0z\" fill=\"none\"/>\n",
              "    <path d=\"M18.56 5.44l.94 2.06.94-2.06 2.06-.94-2.06-.94-.94-2.06-.94 2.06-2.06.94zm-11 1L8.5 8.5l.94-2.06 2.06-.94-2.06-.94L8.5 2.5l-.94 2.06-2.06.94zm10 10l.94 2.06.94-2.06 2.06-.94-2.06-.94-.94-2.06-.94 2.06-2.06.94z\"/><path d=\"M17.41 7.96l-1.37-1.37c-.4-.4-.92-.59-1.43-.59-.52 0-1.04.2-1.43.59L10.3 9.45l-7.72 7.72c-.78.78-.78 2.05 0 2.83L4 21.41c.39.39.9.59 1.41.59.51 0 1.02-.2 1.41-.59l7.78-7.78 2.81-2.81c.8-.78.8-2.07 0-2.86zM5.41 20L4 18.59l7.72-7.72 1.47 1.35L5.41 20z\"/>\n",
              "  </svg>\n",
              "      </button>\n",
              "      \n",
              "  <style>\n",
              "    .colab-df-container {\n",
              "      display:flex;\n",
              "      flex-wrap:wrap;\n",
              "      gap: 12px;\n",
              "    }\n",
              "\n",
              "    .colab-df-convert {\n",
              "      background-color: #E8F0FE;\n",
              "      border: none;\n",
              "      border-radius: 50%;\n",
              "      cursor: pointer;\n",
              "      display: none;\n",
              "      fill: #1967D2;\n",
              "      height: 32px;\n",
              "      padding: 0 0 0 0;\n",
              "      width: 32px;\n",
              "    }\n",
              "\n",
              "    .colab-df-convert:hover {\n",
              "      background-color: #E2EBFA;\n",
              "      box-shadow: 0px 1px 2px rgba(60, 64, 67, 0.3), 0px 1px 3px 1px rgba(60, 64, 67, 0.15);\n",
              "      fill: #174EA6;\n",
              "    }\n",
              "\n",
              "    [theme=dark] .colab-df-convert {\n",
              "      background-color: #3B4455;\n",
              "      fill: #D2E3FC;\n",
              "    }\n",
              "\n",
              "    [theme=dark] .colab-df-convert:hover {\n",
              "      background-color: #434B5C;\n",
              "      box-shadow: 0px 1px 3px 1px rgba(0, 0, 0, 0.15);\n",
              "      filter: drop-shadow(0px 1px 2px rgba(0, 0, 0, 0.3));\n",
              "      fill: #FFFFFF;\n",
              "    }\n",
              "  </style>\n",
              "\n",
              "      <script>\n",
              "        const buttonEl =\n",
              "          document.querySelector('#df-111c18f9-5f79-4906-87e7-394472e9d4ee button.colab-df-convert');\n",
              "        buttonEl.style.display =\n",
              "          google.colab.kernel.accessAllowed ? 'block' : 'none';\n",
              "\n",
              "        async function convertToInteractive(key) {\n",
              "          const element = document.querySelector('#df-111c18f9-5f79-4906-87e7-394472e9d4ee');\n",
              "          const dataTable =\n",
              "            await google.colab.kernel.invokeFunction('convertToInteractive',\n",
              "                                                     [key], {});\n",
              "          if (!dataTable) return;\n",
              "\n",
              "          const docLinkHtml = 'Like what you see? Visit the ' +\n",
              "            '<a target=\"_blank\" href=https://colab.research.google.com/notebooks/data_table.ipynb>data table notebook</a>'\n",
              "            + ' to learn more about interactive tables.';\n",
              "          element.innerHTML = '';\n",
              "          dataTable['output_type'] = 'display_data';\n",
              "          await google.colab.output.renderOutput(dataTable, element);\n",
              "          const docLink = document.createElement('div');\n",
              "          docLink.innerHTML = docLinkHtml;\n",
              "          element.appendChild(docLink);\n",
              "        }\n",
              "      </script>\n",
              "    </div>\n",
              "  </div>\n",
              "  "
            ]
          },
          "metadata": {},
          "execution_count": 28
        }
      ]
    },
    {
      "cell_type": "markdown",
      "source": [
        "We can notice that the mean of the popularity of our dataset is 62.57 (on a maximum of 100).<br>\n",
        "The mean of total_health is 19 (on a maximum of 30).<br>"
      ],
      "metadata": {
        "id": "M-MHprbwS1q-"
      }
    },
    {
      "cell_type": "code",
      "source": [
        "#check artist and genres by merging with the csv song_metrics.csv"
      ],
      "metadata": {
        "id": "NpjJcMD4LwqO"
      },
      "execution_count": null,
      "outputs": []
    },
    {
      "cell_type": "markdown",
      "source": [
        "# Correlation Map\n",
        "\n",
        "As the previous analyisis shows, no correlation emerges between mental health and music features:"
      ],
      "metadata": {
        "id": "KPkMFfF9Mw7s"
      }
    },
    {
      "cell_type": "code",
      "source": [
        "corr_df = df_music.corr(method='pearson')\n",
        "plt.figure(figsize = (14,6))\n",
        "heatmap=sns.heatmap(corr_df, annot=True, fmt ='.1g', vmin =-1, center=0, cmap='inferno', linewidths=1, linecolor='Black')\n",
        "heatmap.set_title('Correlation HeatMap Between Variables')\n",
        "heatmap.set_xticklabels(heatmap.get_xticklabels(), rotation=90)\n",
        "\n",
        "# Gender was missing because it has not integer/float values - \n",
        "# I converted it in numerical values (0= males, 1=female) to include it, don't know if it is correct\n",
        "\n",
        "#let's see if after cleaning the data the heatmap changes"
      ],
      "metadata": {
        "colab": {
          "base_uri": "https://localhost:8080/",
          "height": 808
        },
        "id": "UixMqajeM2cm",
        "outputId": "3a99570e-813b-4f67-bd3b-3dc4ef82917d"
      },
      "execution_count": 55,
      "outputs": [
        {
          "output_type": "execute_result",
          "data": {
            "text/plain": [
              "[Text(0.5, 0, 'life_enjoyment'),\n",
              " Text(1.5, 0, 'resilience'),\n",
              " Text(2.5, 0, 'balanced_life'),\n",
              " Text(3.5, 0, 'emotional_flex'),\n",
              " Text(4.5, 0, 'self_actualization'),\n",
              " Text(5.5, 0, 'id'),\n",
              " Text(6.5, 0, 'total_health'),\n",
              " Text(7.5, 0, 'energy'),\n",
              " Text(8.5, 0, 'dance'),\n",
              " Text(9.5, 0, 'liveness'),\n",
              " Text(10.5, 0, 'valence'),\n",
              " Text(11.5, 0, 'tempo'),\n",
              " Text(12.5, 0, 'instrumental'),\n",
              " Text(13.5, 0, 'acoustic'),\n",
              " Text(14.5, 0, 'popularity'),\n",
              " Text(15.5, 0, 'health_categorical'),\n",
              " Text(16.5, 0, 'sex_n'),\n",
              " Text(17.5, 0, 'hours_n'),\n",
              " Text(18.5, 0, 'tr_n')]"
            ]
          },
          "metadata": {},
          "execution_count": 55
        },
        {
          "output_type": "display_data",
          "data": {
            "text/plain": [
              "<Figure size 1008x432 with 2 Axes>"
            ],
            "image/png": "[encoded data removed]"
          },
          "metadata": {
            "needs_background": "light"
          }
        }
      ]
    },
    {
      "cell_type": "markdown",
      "source": [
        "Further investigations have to be done regarding the eventual correlations of the variable genre with other ones."
      ],
      "metadata": {
        "id": "TkVztSWdTaU2"
      }
    },
    {
      "cell_type": "code",
      "source": [
        "#plt.figure(figsize=(10,6))\n",
        "#sns.regplot(data = df_music, y = 'hours_n', x = 'tr_n', color='c').set(title = 'x vs y Correlation')"
      ],
      "metadata": {
        "id": "qK3Bq5PmQwR7"
      },
      "execution_count": null,
      "outputs": []
    },
    {
      "cell_type": "markdown",
      "source": [
        "# Describing the audience of the study\n",
        "Here we could try describing interesting patterns but the problem is that we don't have meaningful correlations. Should we include data on genres and artists from other csvs?"
      ],
      "metadata": {
        "id": "fEf_u5HElnpN"
      }
    },
    {
      "cell_type": "markdown",
      "source": [
        "The EDA that we use as a starting point finds these **4 clusters** among people involved in the survey:\n",
        "\n",
        "* **Cluster 1**: Energetic Radio Listeners. People who listen to high danceability and energetic songs, that are just popular to be on radio or were once popular. (For example: Stay - Kygo, Beibs In The Trap - Travis Scott from cluster 1 listeners)\n",
        "\n",
        "* **Clsuter 2**: Soothing Underground Listeners. People who listen to low energy, danceability and popularity songs that are relaxing and soothing. (For example: Honey, Save Me From My Falsehoods - Asha Jefferies from cluster 2 listeners)\n",
        "\n",
        "* **Cluster 3**: Upbeat Dancers. People listening to fast tempo and highly danceable songs, but lacking energy and intensity. (For example: Location - Khalid, Drama - Roy Woods, Dat $tick - Rich Chigga (how!?) from cluster 3 listeners.)\n",
        "\n",
        "* **Cluster 4**: Underground Energetic/Indie Listeners. People listening to high energy and low danceability music, often alternative rock/screamo/indie music that's not popular on Spotify or energetic underground rap/hip-hop music. (For example: Chloroform - Phoenix, Aftermanth - Crown The Empire, Just Might Be - Young Thug from cluster 4 listeners.)\n",
        "\n",
        "\n",
        "\n",
        "\n",
        "\n",
        "Could we use this info?  **Maybe we could look for other features of these 4 clusters**."
      ],
      "metadata": {
        "id": "QyTk64dSdiv_"
      }
    },
    {
      "cell_type": "markdown",
      "source": [
        "## distribution of mental health"
      ],
      "metadata": {
        "id": "dqdkJ0_qebrc"
      }
    },
    {
      "cell_type": "code",
      "source": [
        "#distribution of mental health\n",
        "sns.displot(data=df_music, x='total_health')"
      ],
      "metadata": {
        "colab": {
          "base_uri": "https://localhost:8080/",
          "height": 387
        },
        "id": "ZekIkDKfXOfz",
        "outputId": "02a3ee71-8fae-4510-e3d5-4a0a1e3f1fef"
      },
      "execution_count": 14,
      "outputs": [
        {
          "output_type": "execute_result",
          "data": {
            "text/plain": [
              "<seaborn.axisgrid.FacetGrid at 0x7f6cf0da82b0>"
            ]
          },
          "metadata": {},
          "execution_count": 14
        },
        {
          "output_type": "display_data",
          "data": {
            "text/plain": [
              "<Figure size 360x360 with 1 Axes>"
            ],
            "image/png": "[encoded data removed]"
          },
          "metadata": {
            "needs_background": "light"
          }
        }
      ]
    },
    {
      "cell_type": "code",
      "source": [
        "#distribution of recent experience of trauma\n",
        "sns.displot(data=df_music, x='trauma')"
      ],
      "metadata": {
        "colab": {
          "base_uri": "https://localhost:8080/",
          "height": 387
        },
        "id": "c_9_yKIcssqZ",
        "outputId": "d8c050ba-6e50-4edd-c30e-264b3a5bb410"
      },
      "execution_count": 23,
      "outputs": [
        {
          "output_type": "execute_result",
          "data": {
            "text/plain": [
              "<seaborn.axisgrid.FacetGrid at 0x7f6cee1c0e50>"
            ]
          },
          "metadata": {},
          "execution_count": 23
        },
        {
          "output_type": "display_data",
          "data": {
            "text/plain": [
              "<Figure size 360x360 with 1 Axes>"
            ],
            "image/png": "[encoded data removed]"
          },
          "metadata": {
            "needs_background": "light"
          }
        }
      ]
    },
    {
      "cell_type": "code",
      "source": [
        "# Create some visualizations\n",
        "sns.relplot(\n",
        "    data=df_music,\n",
        "    x=\"acoustic\", y=\"valence\")"
      ],
      "metadata": {
        "id": "lpNEGl8dn8VO"
      },
      "execution_count": null,
      "outputs": []
    },
    {
      "cell_type": "code",
      "source": [
        "# \n",
        "sns.relplot(\n",
        "    data=df_music, kind=\"line\",\n",
        "    x=\"tr_n\", y=\"hours_n\"\n",
        ")\n"
      ],
      "metadata": {
        "id": "GlV0iV6HpVds"
      },
      "execution_count": null,
      "outputs": []
    },
    {
      "cell_type": "code",
      "source": [
        "sns.relplot(\n",
        "    data=df_music, kind=\"line\",\n",
        "    x=\"tr_n\", y=\"acoustic\"\n",
        ")"
      ],
      "metadata": {
        "id": "oSbQhe9UOqWb"
      },
      "execution_count": null,
      "outputs": []
    },
    {
      "cell_type": "code",
      "source": [
        "sns.relplot(\n",
        "    data=df_music, kind=\"line\",\n",
        "    x=\"balanced_life\", y=\"dance\"\n",
        ")"
      ],
      "metadata": {
        "id": "aIatPWhEPT8y"
      },
      "execution_count": null,
      "outputs": []
    },
    {
      "cell_type": "markdown",
      "source": [
        "# <h1>Analysis of song_metrics.csv file containing more specific songs data</h1>\n",
        "\n",
        "Do some data cleanses:\n",
        "- remove blank spaces\n",
        " - separate titles from artists;\n",
        " - gain data from links to youtube;\n"
      ],
      "metadata": {
        "id": "9ces5QD_q1cS"
      }
    },
    {
      "cell_type": "code",
      "source": [
        "song_metrics = pd.read_csv('song_metrics.csv')\n",
        "song_metrics.head()"
      ],
      "metadata": {
        "colab": {
          "base_uri": "https://localhost:8080/",
          "height": 493
        },
        "id": "U2VDCaNnrJ63",
        "outputId": "41cfac80-398f-4c89-bb39-0d1f2726d326"
      },
      "execution_count": 30,
      "outputs": [
        {
          "output_type": "execute_result",
          "data": {
            "text/plain": [
              "   Unnamed: 0  id                                              songs  \\\n",
              "0           0   0                                     Too Good Drake   \n",
              "1           1   0  Trust Nobody Selena Gomez Tory Lanez Cashmere Cat   \n",
              "2           2   0            Don't Wanna Know Maroon5 Kendrick Lamar   \n",
              "3           3   1            Put that on my set asap rocky ft skepta   \n",
              "4           4   1                        High rhe beach lana del rey   \n",
              "\n",
              "                                             song        artist  energy  \\\n",
              "0                                        Too Good         Drake   0.641   \n",
              "1  Trust Nobody (feat. Selena Gomez & Tory Lanez)  Cashmere Cat   0.625   \n",
              "2         Don't Wanna Know Maroon5 Kendrick Lamar           NaN     NaN   \n",
              "3         Put that on my set asap rocky ft skepta           NaN     NaN   \n",
              "4                     High rhe beach lana del rey           NaN     NaN   \n",
              "\n",
              "   dance  liveness  valence    tempo  instrumental  acoustic  popularity  \\\n",
              "0   0.82     0.102    0.395  117.974      0.000051    0.0662        77.0   \n",
              "1   0.49     0.118    0.748   78.762      0.000000    0.4970        66.0   \n",
              "2    NaN       NaN      NaN      NaN           NaN       NaN         NaN   \n",
              "3    NaN       NaN      NaN      NaN           NaN       NaN         NaN   \n",
              "4    NaN       NaN      NaN      NaN           NaN       NaN         NaN   \n",
              "\n",
              "                                              genres  \n",
              "0  ['canadian hip hop', 'canadian pop', 'hip hop'...  \n",
              "1  ['dance pop', 'downtempo', 'edm', 'electropop'...  \n",
              "2                                                NaN  \n",
              "3                                                NaN  \n",
              "4                                                NaN  "
            ],
            "text/html": [
              "\n",
              "  <div id=\"df-7bd5cc8b-71a6-4e30-bc4e-29266b3caebd\">\n",
              "    <div class=\"colab-df-container\">\n",
              "      <div>\n",
              "<style scoped>\n",
              "    .dataframe tbody tr th:only-of-type {\n",
              "        vertical-align: middle;\n",
              "    }\n",
              "\n",
              "    .dataframe tbody tr th {\n",
              "        vertical-align: top;\n",
              "    }\n",
              "\n",
              "    .dataframe thead th {\n",
              "        text-align: right;\n",
              "    }\n",
              "</style>\n",
              "<table border=\"1\" class=\"dataframe\">\n",
              "  <thead>\n",
              "    <tr style=\"text-align: right;\">\n",
              "      <th></th>\n",
              "      <th>Unnamed: 0</th>\n",
              "      <th>id</th>\n",
              "      <th>songs</th>\n",
              "      <th>song</th>\n",
              "      <th>artist</th>\n",
              "      <th>energy</th>\n",
              "      <th>dance</th>\n",
              "      <th>liveness</th>\n",
              "      <th>valence</th>\n",
              "      <th>tempo</th>\n",
              "      <th>instrumental</th>\n",
              "      <th>acoustic</th>\n",
              "      <th>popularity</th>\n",
              "      <th>genres</th>\n",
              "    </tr>\n",
              "  </thead>\n",
              "  <tbody>\n",
              "    <tr>\n",
              "      <th>0</th>\n",
              "      <td>0</td>\n",
              "      <td>0</td>\n",
              "      <td>Too Good Drake</td>\n",
              "      <td>Too Good</td>\n",
              "      <td>Drake</td>\n",
              "      <td>0.641</td>\n",
              "      <td>0.82</td>\n",
              "      <td>0.102</td>\n",
              "      <td>0.395</td>\n",
              "      <td>117.974</td>\n",
              "      <td>0.000051</td>\n",
              "      <td>0.0662</td>\n",
              "      <td>77.0</td>\n",
              "      <td>['canadian hip hop', 'canadian pop', 'hip hop'...</td>\n",
              "    </tr>\n",
              "    <tr>\n",
              "      <th>1</th>\n",
              "      <td>1</td>\n",
              "      <td>0</td>\n",
              "      <td>Trust Nobody Selena Gomez Tory Lanez Cashmere Cat</td>\n",
              "      <td>Trust Nobody (feat. Selena Gomez &amp; Tory Lanez)</td>\n",
              "      <td>Cashmere Cat</td>\n",
              "      <td>0.625</td>\n",
              "      <td>0.49</td>\n",
              "      <td>0.118</td>\n",
              "      <td>0.748</td>\n",
              "      <td>78.762</td>\n",
              "      <td>0.000000</td>\n",
              "      <td>0.4970</td>\n",
              "      <td>66.0</td>\n",
              "      <td>['dance pop', 'downtempo', 'edm', 'electropop'...</td>\n",
              "    </tr>\n",
              "    <tr>\n",
              "      <th>2</th>\n",
              "      <td>2</td>\n",
              "      <td>0</td>\n",
              "      <td>Don't Wanna Know Maroon5 Kendrick Lamar</td>\n",
              "      <td>Don't Wanna Know Maroon5 Kendrick Lamar</td>\n",
              "      <td>NaN</td>\n",
              "      <td>NaN</td>\n",
              "      <td>NaN</td>\n",
              "      <td>NaN</td>\n",
              "      <td>NaN</td>\n",
              "      <td>NaN</td>\n",
              "      <td>NaN</td>\n",
              "      <td>NaN</td>\n",
              "      <td>NaN</td>\n",
              "      <td>NaN</td>\n",
              "    </tr>\n",
              "    <tr>\n",
              "      <th>3</th>\n",
              "      <td>3</td>\n",
              "      <td>1</td>\n",
              "      <td>Put that on my set asap rocky ft skepta</td>\n",
              "      <td>Put that on my set asap rocky ft skepta</td>\n",
              "      <td>NaN</td>\n",
              "      <td>NaN</td>\n",
              "      <td>NaN</td>\n",
              "      <td>NaN</td>\n",
              "      <td>NaN</td>\n",
              "      <td>NaN</td>\n",
              "      <td>NaN</td>\n",
              "      <td>NaN</td>\n",
              "      <td>NaN</td>\n",
              "      <td>NaN</td>\n",
              "    </tr>\n",
              "    <tr>\n",
              "      <th>4</th>\n",
              "      <td>4</td>\n",
              "      <td>1</td>\n",
              "      <td>High rhe beach lana del rey</td>\n",
              "      <td>High rhe beach lana del rey</td>\n",
              "      <td>NaN</td>\n",
              "      <td>NaN</td>\n",
              "      <td>NaN</td>\n",
              "      <td>NaN</td>\n",
              "      <td>NaN</td>\n",
              "      <td>NaN</td>\n",
              "      <td>NaN</td>\n",
              "      <td>NaN</td>\n",
              "      <td>NaN</td>\n",
              "      <td>NaN</td>\n",
              "    </tr>\n",
              "  </tbody>\n",
              "</table>\n",
              "</div>\n",
              "      <button class=\"colab-df-convert\" onclick=\"convertToInteractive('df-7bd5cc8b-71a6-4e30-bc4e-29266b3caebd')\"\n",
              "              title=\"Convert this dataframe to an interactive table.\"\n",
              "              style=\"display:none;\">\n",
              "        \n",
              "  <svg xmlns=\"http://www.w3.org/2000/svg\" height=\"24px\"viewBox=\"0 0 24 24\"\n",
              "       width=\"24px\">\n",
              "    <path d=\"M0 0h24v24H0V0z\" fill=\"none\"/>\n",
              "    <path d=\"M18.56 5.44l.94 2.06.94-2.06 2.06-.94-2.06-.94-.94-2.06-.94 2.06-2.06.94zm-11 1L8.5 8.5l.94-2.06 2.06-.94-2.06-.94L8.5 2.5l-.94 2.06-2.06.94zm10 10l.94 2.06.94-2.06 2.06-.94-2.06-.94-.94-2.06-.94 2.06-2.06.94z\"/><path d=\"M17.41 7.96l-1.37-1.37c-.4-.4-.92-.59-1.43-.59-.52 0-1.04.2-1.43.59L10.3 9.45l-7.72 7.72c-.78.78-.78 2.05 0 2.83L4 21.41c.39.39.9.59 1.41.59.51 0 1.02-.2 1.41-.59l7.78-7.78 2.81-2.81c.8-.78.8-2.07 0-2.86zM5.41 20L4 18.59l7.72-7.72 1.47 1.35L5.41 20z\"/>\n",
              "  </svg>\n",
              "      </button>\n",
              "      \n",
              "  <style>\n",
              "    .colab-df-container {\n",
              "      display:flex;\n",
              "      flex-wrap:wrap;\n",
              "      gap: 12px;\n",
              "    }\n",
              "\n",
              "    .colab-df-convert {\n",
              "      background-color: #E8F0FE;\n",
              "      border: none;\n",
              "      border-radius: 50%;\n",
              "      cursor: pointer;\n",
              "      display: none;\n",
              "      fill: #1967D2;\n",
              "      height: 32px;\n",
              "      padding: 0 0 0 0;\n",
              "      width: 32px;\n",
              "    }\n",
              "\n",
              "    .colab-df-convert:hover {\n",
              "      background-color: #E2EBFA;\n",
              "      box-shadow: 0px 1px 2px rgba(60, 64, 67, 0.3), 0px 1px 3px 1px rgba(60, 64, 67, 0.15);\n",
              "      fill: #174EA6;\n",
              "    }\n",
              "\n",
              "    [theme=dark] .colab-df-convert {\n",
              "      background-color: #3B4455;\n",
              "      fill: #D2E3FC;\n",
              "    }\n",
              "\n",
              "    [theme=dark] .colab-df-convert:hover {\n",
              "      background-color: #434B5C;\n",
              "      box-shadow: 0px 1px 3px 1px rgba(0, 0, 0, 0.15);\n",
              "      filter: drop-shadow(0px 1px 2px rgba(0, 0, 0, 0.3));\n",
              "      fill: #FFFFFF;\n",
              "    }\n",
              "  </style>\n",
              "\n",
              "      <script>\n",
              "        const buttonEl =\n",
              "          document.querySelector('#df-7bd5cc8b-71a6-4e30-bc4e-29266b3caebd button.colab-df-convert');\n",
              "        buttonEl.style.display =\n",
              "          google.colab.kernel.accessAllowed ? 'block' : 'none';\n",
              "\n",
              "        async function convertToInteractive(key) {\n",
              "          const element = document.querySelector('#df-7bd5cc8b-71a6-4e30-bc4e-29266b3caebd');\n",
              "          const dataTable =\n",
              "            await google.colab.kernel.invokeFunction('convertToInteractive',\n",
              "                                                     [key], {});\n",
              "          if (!dataTable) return;\n",
              "\n",
              "          const docLinkHtml = 'Like what you see? Visit the ' +\n",
              "            '<a target=\"_blank\" href=https://colab.research.google.com/notebooks/data_table.ipynb>data table notebook</a>'\n",
              "            + ' to learn more about interactive tables.';\n",
              "          element.innerHTML = '';\n",
              "          dataTable['output_type'] = 'display_data';\n",
              "          await google.colab.output.renderOutput(dataTable, element);\n",
              "          const docLink = document.createElement('div');\n",
              "          docLink.innerHTML = docLinkHtml;\n",
              "          element.appendChild(docLink);\n",
              "        }\n",
              "      </script>\n",
              "    </div>\n",
              "  </div>\n",
              "  "
            ]
          },
          "metadata": {},
          "execution_count": 30
        }
      ]
    },
    {
      "cell_type": "code",
      "source": [
        "#null values\n",
        "pd.isnull(song_metrics).sum()"
      ],
      "metadata": {
        "colab": {
          "base_uri": "https://localhost:8080/"
        },
        "id": "tVsejl3tsxPh",
        "outputId": "ac9f705b-b44e-4024-a17e-79c1bd44678a"
      },
      "execution_count": 29,
      "outputs": [
        {
          "output_type": "execute_result",
          "data": {
            "text/plain": [
              "Unnamed: 0        0\n",
              "id                0\n",
              "songs             0\n",
              "song              1\n",
              "artist          110\n",
              "energy          110\n",
              "dance           110\n",
              "liveness        110\n",
              "valence         110\n",
              "tempo           110\n",
              "instrumental    110\n",
              "acoustic        110\n",
              "popularity      110\n",
              "genres          110\n",
              "dtype: int64"
            ]
          },
          "metadata": {},
          "execution_count": 29
        }
      ]
    },
    {
      "cell_type": "markdown",
      "source": [
        "We can notice that we miss information about the **genres** of the songs and about their **artists** for 110 songs, therefore an **integration** of our data with spotify/ musicbrainz/wikidata data is needed. <br>\n",
        "Most of the missing features of songs are dued to a missing separation of the title from the artist names or to typos in the titles. A data cleansing is thereforenecessary before the data integration.\n",
        "\n",
        "Furtheremore, we have the genres contained in a list and this makes it difficult to rely on this column for gaining genre data. **Should we rely only on Wikidata for the genres?** "
      ],
      "metadata": {
        "id": "XBSfBgeHwsV0"
      }
    },
    {
      "cell_type": "code",
      "source": [
        "song_metrics.info()"
      ],
      "metadata": {
        "colab": {
          "base_uri": "https://localhost:8080/"
        },
        "id": "gAxd4zYNs9PI",
        "outputId": "b2747d64-f63c-4a4f-feaf-8c79cc05bae7"
      },
      "execution_count": 30,
      "outputs": [
        {
          "output_type": "stream",
          "name": "stdout",
          "text": [
            "<class 'pandas.core.frame.DataFrame'>\n",
            "RangeIndex: 705 entries, 0 to 704\n",
            "Data columns (total 14 columns):\n",
            " #   Column        Non-Null Count  Dtype  \n",
            "---  ------        --------------  -----  \n",
            " 0   Unnamed: 0    705 non-null    int64  \n",
            " 1   id            705 non-null    int64  \n",
            " 2   songs         705 non-null    object \n",
            " 3   song          704 non-null    object \n",
            " 4   artist        595 non-null    object \n",
            " 5   energy        595 non-null    float64\n",
            " 6   dance         595 non-null    float64\n",
            " 7   liveness      595 non-null    float64\n",
            " 8   valence       595 non-null    float64\n",
            " 9   tempo         595 non-null    float64\n",
            " 10  instrumental  595 non-null    float64\n",
            " 11  acoustic      595 non-null    float64\n",
            " 12  popularity    595 non-null    float64\n",
            " 13  genres        595 non-null    object \n",
            "dtypes: float64(8), int64(2), object(4)\n",
            "memory usage: 77.2+ KB\n"
          ]
        }
      ]
    },
    {
      "cell_type": "code",
      "source": [
        "noNa=song_metrics.fillna(\"\")"
      ],
      "metadata": {
        "id": "c1wt1JU1xCFA"
      },
      "execution_count": 71,
      "outputs": []
    },
    {
      "cell_type": "code",
      "source": [],
      "metadata": {
        "id": "aalJf0gdxEnx"
      },
      "execution_count": null,
      "outputs": []
    },
    {
      "cell_type": "markdown",
      "source": [
        "## 10 most popular songs\n",
        "From the dataframe song_metrics we can obtain the most/less popular songs in our dataset (where the popularity is a value from 0 to 100 gained from Spotify). The popularity of a track is a value between 0 and 100, with 100 being the most popular. The popularity is calculated by algorithm and is based, in the most part, on the total number of plays the track has had and how recent those plays are.\n",
        "\n",
        "**To do**: Checking the measures of central tendencies for the most popular songs."
      ],
      "metadata": {
        "id": "kb06dMEF2f1K"
      }
    },
    {
      "cell_type": "code",
      "source": [
        "no_id =song_metrics.drop(['id','Unnamed: 0','songs'], axis=1)\n",
        "nod=no_id.drop_duplicates()\n",
        "most_popular=nod.query('popularity>80', inplace=False).sort_values('popularity', ascending = False)\n",
        "most_popular[:10]"
      ],
      "metadata": {
        "colab": {
          "base_uri": "https://localhost:8080/",
          "height": 476
        },
        "id": "0GlLu9Md2NrF",
        "outputId": "25756668-a756-4d68-d644-29ded0f99623"
      },
      "execution_count": 31,
      "outputs": [
        {
          "output_type": "execute_result",
          "data": {
            "text/plain": [
              "                             song            artist  energy  dance  liveness  \\\n",
              "310  Psycho (feat. Ty Dolla $ign)       Post Malone   0.559  0.739    0.1120   \n",
              "615               Congratulations       Post Malone   0.804  0.630    0.2530   \n",
              "56                         Closer  The Chainsmokers   0.524  0.748    0.1110   \n",
              "82                     goosebumps      Travis Scott   0.728  0.841    0.1490   \n",
              "654                    Photograph        Ed Sheeran   0.379  0.614    0.0986   \n",
              "25                       Location            Khalid   0.449  0.736    0.0898   \n",
              "526             Thinking Out Loud        Ed Sheeran   0.445  0.781    0.1840   \n",
              "129            That's What I Like        Bruno Mars   0.560  0.853    0.0944   \n",
              "133                    In The End       Linkin Park   0.853  0.542    0.1080   \n",
              "388          Say You Won't Let Go      James Arthur   0.557  0.358    0.0902   \n",
              "\n",
              "     valence    tempo  instrumental  acoustic  popularity  \\\n",
              "310    0.439  140.124      0.000000    0.5800        92.0   \n",
              "615    0.492  123.146      0.000000    0.2150        88.0   \n",
              "56     0.661   95.010      0.000000    0.4140        88.0   \n",
              "82     0.430  130.049      0.000000    0.0847        87.0   \n",
              "654    0.201  107.989      0.000464    0.6070        86.0   \n",
              "25     0.326   80.126      0.000162    0.3300        86.0   \n",
              "526    0.591   78.998      0.000000    0.4740        86.0   \n",
              "129    0.860  134.066      0.000000    0.0130        86.0   \n",
              "133    0.370  105.256      0.000000    0.0103        85.0   \n",
              "388    0.494   85.043      0.000000    0.6950        85.0   \n",
              "\n",
              "                                                genres  \n",
              "310                                     ['pop', 'rap']  \n",
              "615                                     ['pop', 'rap']  \n",
              "56      ['edm', 'electropop', 'pop', 'tropical house']  \n",
              "82                           ['pop', 'pop rap', 'rap']  \n",
              "654                                            ['pop']  \n",
              "25                         ['indie r&b', 'pop', 'rap']  \n",
              "526                                            ['pop']  \n",
              "129                           ['pop', 'post-teen pop']  \n",
              "133  ['alternative metal', 'nu metal', 'post-grunge...  \n",
              "388  ['dance pop', 'neo mellow', 'pop', 'post-teen ...  "
            ],
            "text/html": [
              "\n",
              "  <div id=\"df-f8541e4a-2fc0-4cb3-a5b8-6eb171c2d507\">\n",
              "    <div class=\"colab-df-container\">\n",
              "      <div>\n",
              "<style scoped>\n",
              "    .dataframe tbody tr th:only-of-type {\n",
              "        vertical-align: middle;\n",
              "    }\n",
              "\n",
              "    .dataframe tbody tr th {\n",
              "        vertical-align: top;\n",
              "    }\n",
              "\n",
              "    .dataframe thead th {\n",
              "        text-align: right;\n",
              "    }\n",
              "</style>\n",
              "<table border=\"1\" class=\"dataframe\">\n",
              "  <thead>\n",
              "    <tr style=\"text-align: right;\">\n",
              "      <th></th>\n",
              "      <th>song</th>\n",
              "      <th>artist</th>\n",
              "      <th>energy</th>\n",
              "      <th>dance</th>\n",
              "      <th>liveness</th>\n",
              "      <th>valence</th>\n",
              "      <th>tempo</th>\n",
              "      <th>instrumental</th>\n",
              "      <th>acoustic</th>\n",
              "      <th>popularity</th>\n",
              "      <th>genres</th>\n",
              "    </tr>\n",
              "  </thead>\n",
              "  <tbody>\n",
              "    <tr>\n",
              "      <th>310</th>\n",
              "      <td>Psycho (feat. Ty Dolla $ign)</td>\n",
              "      <td>Post Malone</td>\n",
              "      <td>0.559</td>\n",
              "      <td>0.739</td>\n",
              "      <td>0.1120</td>\n",
              "      <td>0.439</td>\n",
              "      <td>140.124</td>\n",
              "      <td>0.000000</td>\n",
              "      <td>0.5800</td>\n",
              "      <td>92.0</td>\n",
              "      <td>['pop', 'rap']</td>\n",
              "    </tr>\n",
              "    <tr>\n",
              "      <th>615</th>\n",
              "      <td>Congratulations</td>\n",
              "      <td>Post Malone</td>\n",
              "      <td>0.804</td>\n",
              "      <td>0.630</td>\n",
              "      <td>0.2530</td>\n",
              "      <td>0.492</td>\n",
              "      <td>123.146</td>\n",
              "      <td>0.000000</td>\n",
              "      <td>0.2150</td>\n",
              "      <td>88.0</td>\n",
              "      <td>['pop', 'rap']</td>\n",
              "    </tr>\n",
              "    <tr>\n",
              "      <th>56</th>\n",
              "      <td>Closer</td>\n",
              "      <td>The Chainsmokers</td>\n",
              "      <td>0.524</td>\n",
              "      <td>0.748</td>\n",
              "      <td>0.1110</td>\n",
              "      <td>0.661</td>\n",
              "      <td>95.010</td>\n",
              "      <td>0.000000</td>\n",
              "      <td>0.4140</td>\n",
              "      <td>88.0</td>\n",
              "      <td>['edm', 'electropop', 'pop', 'tropical house']</td>\n",
              "    </tr>\n",
              "    <tr>\n",
              "      <th>82</th>\n",
              "      <td>goosebumps</td>\n",
              "      <td>Travis Scott</td>\n",
              "      <td>0.728</td>\n",
              "      <td>0.841</td>\n",
              "      <td>0.1490</td>\n",
              "      <td>0.430</td>\n",
              "      <td>130.049</td>\n",
              "      <td>0.000000</td>\n",
              "      <td>0.0847</td>\n",
              "      <td>87.0</td>\n",
              "      <td>['pop', 'pop rap', 'rap']</td>\n",
              "    </tr>\n",
              "    <tr>\n",
              "      <th>654</th>\n",
              "      <td>Photograph</td>\n",
              "      <td>Ed Sheeran</td>\n",
              "      <td>0.379</td>\n",
              "      <td>0.614</td>\n",
              "      <td>0.0986</td>\n",
              "      <td>0.201</td>\n",
              "      <td>107.989</td>\n",
              "      <td>0.000464</td>\n",
              "      <td>0.6070</td>\n",
              "      <td>86.0</td>\n",
              "      <td>['pop']</td>\n",
              "    </tr>\n",
              "    <tr>\n",
              "      <th>25</th>\n",
              "      <td>Location</td>\n",
              "      <td>Khalid</td>\n",
              "      <td>0.449</td>\n",
              "      <td>0.736</td>\n",
              "      <td>0.0898</td>\n",
              "      <td>0.326</td>\n",
              "      <td>80.126</td>\n",
              "      <td>0.000162</td>\n",
              "      <td>0.3300</td>\n",
              "      <td>86.0</td>\n",
              "      <td>['indie r&amp;b', 'pop', 'rap']</td>\n",
              "    </tr>\n",
              "    <tr>\n",
              "      <th>526</th>\n",
              "      <td>Thinking Out Loud</td>\n",
              "      <td>Ed Sheeran</td>\n",
              "      <td>0.445</td>\n",
              "      <td>0.781</td>\n",
              "      <td>0.1840</td>\n",
              "      <td>0.591</td>\n",
              "      <td>78.998</td>\n",
              "      <td>0.000000</td>\n",
              "      <td>0.4740</td>\n",
              "      <td>86.0</td>\n",
              "      <td>['pop']</td>\n",
              "    </tr>\n",
              "    <tr>\n",
              "      <th>129</th>\n",
              "      <td>That's What I Like</td>\n",
              "      <td>Bruno Mars</td>\n",
              "      <td>0.560</td>\n",
              "      <td>0.853</td>\n",
              "      <td>0.0944</td>\n",
              "      <td>0.860</td>\n",
              "      <td>134.066</td>\n",
              "      <td>0.000000</td>\n",
              "      <td>0.0130</td>\n",
              "      <td>86.0</td>\n",
              "      <td>['pop', 'post-teen pop']</td>\n",
              "    </tr>\n",
              "    <tr>\n",
              "      <th>133</th>\n",
              "      <td>In The End</td>\n",
              "      <td>Linkin Park</td>\n",
              "      <td>0.853</td>\n",
              "      <td>0.542</td>\n",
              "      <td>0.1080</td>\n",
              "      <td>0.370</td>\n",
              "      <td>105.256</td>\n",
              "      <td>0.000000</td>\n",
              "      <td>0.0103</td>\n",
              "      <td>85.0</td>\n",
              "      <td>['alternative metal', 'nu metal', 'post-grunge...</td>\n",
              "    </tr>\n",
              "    <tr>\n",
              "      <th>388</th>\n",
              "      <td>Say You Won't Let Go</td>\n",
              "      <td>James Arthur</td>\n",
              "      <td>0.557</td>\n",
              "      <td>0.358</td>\n",
              "      <td>0.0902</td>\n",
              "      <td>0.494</td>\n",
              "      <td>85.043</td>\n",
              "      <td>0.000000</td>\n",
              "      <td>0.6950</td>\n",
              "      <td>85.0</td>\n",
              "      <td>['dance pop', 'neo mellow', 'pop', 'post-teen ...</td>\n",
              "    </tr>\n",
              "  </tbody>\n",
              "</table>\n",
              "</div>\n",
              "      <button class=\"colab-df-convert\" onclick=\"convertToInteractive('df-f8541e4a-2fc0-4cb3-a5b8-6eb171c2d507')\"\n",
              "              title=\"Convert this dataframe to an interactive table.\"\n",
              "              style=\"display:none;\">\n",
              "        \n",
              "  <svg xmlns=\"http://www.w3.org/2000/svg\" height=\"24px\"viewBox=\"0 0 24 24\"\n",
              "       width=\"24px\">\n",
              "    <path d=\"M0 0h24v24H0V0z\" fill=\"none\"/>\n",
              "    <path d=\"M18.56 5.44l.94 2.06.94-2.06 2.06-.94-2.06-.94-.94-2.06-.94 2.06-2.06.94zm-11 1L8.5 8.5l.94-2.06 2.06-.94-2.06-.94L8.5 2.5l-.94 2.06-2.06.94zm10 10l.94 2.06.94-2.06 2.06-.94-2.06-.94-.94-2.06-.94 2.06-2.06.94z\"/><path d=\"M17.41 7.96l-1.37-1.37c-.4-.4-.92-.59-1.43-.59-.52 0-1.04.2-1.43.59L10.3 9.45l-7.72 7.72c-.78.78-.78 2.05 0 2.83L4 21.41c.39.39.9.59 1.41.59.51 0 1.02-.2 1.41-.59l7.78-7.78 2.81-2.81c.8-.78.8-2.07 0-2.86zM5.41 20L4 18.59l7.72-7.72 1.47 1.35L5.41 20z\"/>\n",
              "  </svg>\n",
              "      </button>\n",
              "      \n",
              "  <style>\n",
              "    .colab-df-container {\n",
              "      display:flex;\n",
              "      flex-wrap:wrap;\n",
              "      gap: 12px;\n",
              "    }\n",
              "\n",
              "    .colab-df-convert {\n",
              "      background-color: #E8F0FE;\n",
              "      border: none;\n",
              "      border-radius: 50%;\n",
              "      cursor: pointer;\n",
              "      display: none;\n",
              "      fill: #1967D2;\n",
              "      height: 32px;\n",
              "      padding: 0 0 0 0;\n",
              "      width: 32px;\n",
              "    }\n",
              "\n",
              "    .colab-df-convert:hover {\n",
              "      background-color: #E2EBFA;\n",
              "      box-shadow: 0px 1px 2px rgba(60, 64, 67, 0.3), 0px 1px 3px 1px rgba(60, 64, 67, 0.15);\n",
              "      fill: #174EA6;\n",
              "    }\n",
              "\n",
              "    [theme=dark] .colab-df-convert {\n",
              "      background-color: #3B4455;\n",
              "      fill: #D2E3FC;\n",
              "    }\n",
              "\n",
              "    [theme=dark] .colab-df-convert:hover {\n",
              "      background-color: #434B5C;\n",
              "      box-shadow: 0px 1px 3px 1px rgba(0, 0, 0, 0.15);\n",
              "      filter: drop-shadow(0px 1px 2px rgba(0, 0, 0, 0.3));\n",
              "      fill: #FFFFFF;\n",
              "    }\n",
              "  </style>\n",
              "\n",
              "      <script>\n",
              "        const buttonEl =\n",
              "          document.querySelector('#df-f8541e4a-2fc0-4cb3-a5b8-6eb171c2d507 button.colab-df-convert');\n",
              "        buttonEl.style.display =\n",
              "          google.colab.kernel.accessAllowed ? 'block' : 'none';\n",
              "\n",
              "        async function convertToInteractive(key) {\n",
              "          const element = document.querySelector('#df-f8541e4a-2fc0-4cb3-a5b8-6eb171c2d507');\n",
              "          const dataTable =\n",
              "            await google.colab.kernel.invokeFunction('convertToInteractive',\n",
              "                                                     [key], {});\n",
              "          if (!dataTable) return;\n",
              "\n",
              "          const docLinkHtml = 'Like what you see? Visit the ' +\n",
              "            '<a target=\"_blank\" href=https://colab.research.google.com/notebooks/data_table.ipynb>data table notebook</a>'\n",
              "            + ' to learn more about interactive tables.';\n",
              "          element.innerHTML = '';\n",
              "          dataTable['output_type'] = 'display_data';\n",
              "          await google.colab.output.renderOutput(dataTable, element);\n",
              "          const docLink = document.createElement('div');\n",
              "          docLink.innerHTML = docLinkHtml;\n",
              "          element.appendChild(docLink);\n",
              "        }\n",
              "      </script>\n",
              "    </div>\n",
              "  </div>\n",
              "  "
            ]
          },
          "metadata": {},
          "execution_count": 31
        }
      ]
    },
    {
      "cell_type": "markdown",
      "source": [
        "## 10 less popular songs\n",
        "Let it go has 0 popularity. seems strange"
      ],
      "metadata": {
        "id": "eNxGrjvKDQ1B"
      }
    },
    {
      "cell_type": "code",
      "source": [
        "sorted_df = nod.sort_values('popularity', ascending= True ).head(10)\n",
        "sorted_df"
      ],
      "metadata": {
        "colab": {
          "base_uri": "https://localhost:8080/",
          "height": 528
        },
        "id": "mZp3kKmvDVQF",
        "outputId": "ae665d84-4a77-4526-910d-4e0be417d6a1"
      },
      "execution_count": 32,
      "outputs": [
        {
          "output_type": "execute_result",
          "data": {
            "text/plain": [
              "                                                  song  \\\n",
              "440                               It Can Happen To You   \n",
              "493  That's Not Me (Karaoke Version) [Originally Pe...   \n",
              "218                  Let It Go (From \"Disney: Frozen\")   \n",
              "512  Yoga (Made Popular By Janelle Monae ft. Jidenn...   \n",
              "12                                         Sweet Sugar   \n",
              "88              Count On Me - Originally By Bruno Mars   \n",
              "695  If Today Is Your Last Day (In the Style of Nic...   \n",
              "599   Kiss It Better (Originally Performed By Rhianna)   \n",
              "191  Don't Wanna Know - 11 Hearts Mix Maroon 5 , Ke...   \n",
              "559                                          Broccolli   \n",
              "\n",
              "                      artist  energy  dance  liveness  valence    tempo  \\\n",
              "440              Chris Smith   0.566  0.800    0.1580    0.674   93.017   \n",
              "493            Backing Force   0.776  0.954    0.0716    0.595  138.961   \n",
              "218             Melinda Keen   0.447  0.548    0.3660    0.235  136.886   \n",
              "512       Party Tyme Karaoke   0.385  0.779    0.1910    0.540  129.980   \n",
              "12                Wanderlust   0.813  0.302    0.3680    0.339  126.965   \n",
              "88           Leopard Powered   0.160  0.569    0.1070    0.120  177.961   \n",
              "695  Mr. Entertainer Karaoke   0.497  0.573    0.3540    0.589   90.021   \n",
              "599           Sunfly Karaoke   0.418  0.484    0.0625    0.542  190.237   \n",
              "191             Amin Cruiser   0.575  0.599    0.0937    0.213  120.913   \n",
              "559                   XENPÄI   0.309  0.775    0.1090    0.483  112.027   \n",
              "\n",
              "     instrumental  acoustic  popularity                               genres  \n",
              "440      0.000297   0.41600         0.0                                   []  \n",
              "493      0.666000   0.36000         0.0                                   []  \n",
              "218      0.000000   0.52300         0.0                                   []  \n",
              "512      0.669000   0.06970         0.0                          ['karaoke']  \n",
              "12       0.082700   0.25500         0.0  ['peruvian indie', 'peruvian rock']  \n",
              "88       0.937000   0.97600         0.0                                   []  \n",
              "695      0.032700   0.00001         0.0                          ['karaoke']  \n",
              "599      0.408000   0.00211         1.0                          ['karaoke']  \n",
              "191      0.253000   0.66600         1.0                                   []  \n",
              "559      0.000000   0.28300         2.0                                   []  "
            ],
            "text/html": [
              "\n",
              "  <div id=\"df-a4e89385-2c24-4327-946a-80a6272683ad\">\n",
              "    <div class=\"colab-df-container\">\n",
              "      <div>\n",
              "<style scoped>\n",
              "    .dataframe tbody tr th:only-of-type {\n",
              "        vertical-align: middle;\n",
              "    }\n",
              "\n",
              "    .dataframe tbody tr th {\n",
              "        vertical-align: top;\n",
              "    }\n",
              "\n",
              "    .dataframe thead th {\n",
              "        text-align: right;\n",
              "    }\n",
              "</style>\n",
              "<table border=\"1\" class=\"dataframe\">\n",
              "  <thead>\n",
              "    <tr style=\"text-align: right;\">\n",
              "      <th></th>\n",
              "      <th>song</th>\n",
              "      <th>artist</th>\n",
              "      <th>energy</th>\n",
              "      <th>dance</th>\n",
              "      <th>liveness</th>\n",
              "      <th>valence</th>\n",
              "      <th>tempo</th>\n",
              "      <th>instrumental</th>\n",
              "      <th>acoustic</th>\n",
              "      <th>popularity</th>\n",
              "      <th>genres</th>\n",
              "    </tr>\n",
              "  </thead>\n",
              "  <tbody>\n",
              "    <tr>\n",
              "      <th>440</th>\n",
              "      <td>It Can Happen To You</td>\n",
              "      <td>Chris Smith</td>\n",
              "      <td>0.566</td>\n",
              "      <td>0.800</td>\n",
              "      <td>0.1580</td>\n",
              "      <td>0.674</td>\n",
              "      <td>93.017</td>\n",
              "      <td>0.000297</td>\n",
              "      <td>0.41600</td>\n",
              "      <td>0.0</td>\n",
              "      <td>[]</td>\n",
              "    </tr>\n",
              "    <tr>\n",
              "      <th>493</th>\n",
              "      <td>That's Not Me (Karaoke Version) [Originally Pe...</td>\n",
              "      <td>Backing Force</td>\n",
              "      <td>0.776</td>\n",
              "      <td>0.954</td>\n",
              "      <td>0.0716</td>\n",
              "      <td>0.595</td>\n",
              "      <td>138.961</td>\n",
              "      <td>0.666000</td>\n",
              "      <td>0.36000</td>\n",
              "      <td>0.0</td>\n",
              "      <td>[]</td>\n",
              "    </tr>\n",
              "    <tr>\n",
              "      <th>218</th>\n",
              "      <td>Let It Go (From \"Disney: Frozen\")</td>\n",
              "      <td>Melinda Keen</td>\n",
              "      <td>0.447</td>\n",
              "      <td>0.548</td>\n",
              "      <td>0.3660</td>\n",
              "      <td>0.235</td>\n",
              "      <td>136.886</td>\n",
              "      <td>0.000000</td>\n",
              "      <td>0.52300</td>\n",
              "      <td>0.0</td>\n",
              "      <td>[]</td>\n",
              "    </tr>\n",
              "    <tr>\n",
              "      <th>512</th>\n",
              "      <td>Yoga (Made Popular By Janelle Monae ft. Jidenn...</td>\n",
              "      <td>Party Tyme Karaoke</td>\n",
              "      <td>0.385</td>\n",
              "      <td>0.779</td>\n",
              "      <td>0.1910</td>\n",
              "      <td>0.540</td>\n",
              "      <td>129.980</td>\n",
              "      <td>0.669000</td>\n",
              "      <td>0.06970</td>\n",
              "      <td>0.0</td>\n",
              "      <td>['karaoke']</td>\n",
              "    </tr>\n",
              "    <tr>\n",
              "      <th>12</th>\n",
              "      <td>Sweet Sugar</td>\n",
              "      <td>Wanderlust</td>\n",
              "      <td>0.813</td>\n",
              "      <td>0.302</td>\n",
              "      <td>0.3680</td>\n",
              "      <td>0.339</td>\n",
              "      <td>126.965</td>\n",
              "      <td>0.082700</td>\n",
              "      <td>0.25500</td>\n",
              "      <td>0.0</td>\n",
              "      <td>['peruvian indie', 'peruvian rock']</td>\n",
              "    </tr>\n",
              "    <tr>\n",
              "      <th>88</th>\n",
              "      <td>Count On Me - Originally By Bruno Mars</td>\n",
              "      <td>Leopard Powered</td>\n",
              "      <td>0.160</td>\n",
              "      <td>0.569</td>\n",
              "      <td>0.1070</td>\n",
              "      <td>0.120</td>\n",
              "      <td>177.961</td>\n",
              "      <td>0.937000</td>\n",
              "      <td>0.97600</td>\n",
              "      <td>0.0</td>\n",
              "      <td>[]</td>\n",
              "    </tr>\n",
              "    <tr>\n",
              "      <th>695</th>\n",
              "      <td>If Today Is Your Last Day (In the Style of Nic...</td>\n",
              "      <td>Mr. Entertainer Karaoke</td>\n",
              "      <td>0.497</td>\n",
              "      <td>0.573</td>\n",
              "      <td>0.3540</td>\n",
              "      <td>0.589</td>\n",
              "      <td>90.021</td>\n",
              "      <td>0.032700</td>\n",
              "      <td>0.00001</td>\n",
              "      <td>0.0</td>\n",
              "      <td>['karaoke']</td>\n",
              "    </tr>\n",
              "    <tr>\n",
              "      <th>599</th>\n",
              "      <td>Kiss It Better (Originally Performed By Rhianna)</td>\n",
              "      <td>Sunfly Karaoke</td>\n",
              "      <td>0.418</td>\n",
              "      <td>0.484</td>\n",
              "      <td>0.0625</td>\n",
              "      <td>0.542</td>\n",
              "      <td>190.237</td>\n",
              "      <td>0.408000</td>\n",
              "      <td>0.00211</td>\n",
              "      <td>1.0</td>\n",
              "      <td>['karaoke']</td>\n",
              "    </tr>\n",
              "    <tr>\n",
              "      <th>191</th>\n",
              "      <td>Don't Wanna Know - 11 Hearts Mix Maroon 5 , Ke...</td>\n",
              "      <td>Amin Cruiser</td>\n",
              "      <td>0.575</td>\n",
              "      <td>0.599</td>\n",
              "      <td>0.0937</td>\n",
              "      <td>0.213</td>\n",
              "      <td>120.913</td>\n",
              "      <td>0.253000</td>\n",
              "      <td>0.66600</td>\n",
              "      <td>1.0</td>\n",
              "      <td>[]</td>\n",
              "    </tr>\n",
              "    <tr>\n",
              "      <th>559</th>\n",
              "      <td>Broccolli</td>\n",
              "      <td>XENPÄI</td>\n",
              "      <td>0.309</td>\n",
              "      <td>0.775</td>\n",
              "      <td>0.1090</td>\n",
              "      <td>0.483</td>\n",
              "      <td>112.027</td>\n",
              "      <td>0.000000</td>\n",
              "      <td>0.28300</td>\n",
              "      <td>2.0</td>\n",
              "      <td>[]</td>\n",
              "    </tr>\n",
              "  </tbody>\n",
              "</table>\n",
              "</div>\n",
              "      <button class=\"colab-df-convert\" onclick=\"convertToInteractive('df-a4e89385-2c24-4327-946a-80a6272683ad')\"\n",
              "              title=\"Convert this dataframe to an interactive table.\"\n",
              "              style=\"display:none;\">\n",
              "        \n",
              "  <svg xmlns=\"http://www.w3.org/2000/svg\" height=\"24px\"viewBox=\"0 0 24 24\"\n",
              "       width=\"24px\">\n",
              "    <path d=\"M0 0h24v24H0V0z\" fill=\"none\"/>\n",
              "    <path d=\"M18.56 5.44l.94 2.06.94-2.06 2.06-.94-2.06-.94-.94-2.06-.94 2.06-2.06.94zm-11 1L8.5 8.5l.94-2.06 2.06-.94-2.06-.94L8.5 2.5l-.94 2.06-2.06.94zm10 10l.94 2.06.94-2.06 2.06-.94-2.06-.94-.94-2.06-.94 2.06-2.06.94z\"/><path d=\"M17.41 7.96l-1.37-1.37c-.4-.4-.92-.59-1.43-.59-.52 0-1.04.2-1.43.59L10.3 9.45l-7.72 7.72c-.78.78-.78 2.05 0 2.83L4 21.41c.39.39.9.59 1.41.59.51 0 1.02-.2 1.41-.59l7.78-7.78 2.81-2.81c.8-.78.8-2.07 0-2.86zM5.41 20L4 18.59l7.72-7.72 1.47 1.35L5.41 20z\"/>\n",
              "  </svg>\n",
              "      </button>\n",
              "      \n",
              "  <style>\n",
              "    .colab-df-container {\n",
              "      display:flex;\n",
              "      flex-wrap:wrap;\n",
              "      gap: 12px;\n",
              "    }\n",
              "\n",
              "    .colab-df-convert {\n",
              "      background-color: #E8F0FE;\n",
              "      border: none;\n",
              "      border-radius: 50%;\n",
              "      cursor: pointer;\n",
              "      display: none;\n",
              "      fill: #1967D2;\n",
              "      height: 32px;\n",
              "      padding: 0 0 0 0;\n",
              "      width: 32px;\n",
              "    }\n",
              "\n",
              "    .colab-df-convert:hover {\n",
              "      background-color: #E2EBFA;\n",
              "      box-shadow: 0px 1px 2px rgba(60, 64, 67, 0.3), 0px 1px 3px 1px rgba(60, 64, 67, 0.15);\n",
              "      fill: #174EA6;\n",
              "    }\n",
              "\n",
              "    [theme=dark] .colab-df-convert {\n",
              "      background-color: #3B4455;\n",
              "      fill: #D2E3FC;\n",
              "    }\n",
              "\n",
              "    [theme=dark] .colab-df-convert:hover {\n",
              "      background-color: #434B5C;\n",
              "      box-shadow: 0px 1px 3px 1px rgba(0, 0, 0, 0.15);\n",
              "      filter: drop-shadow(0px 1px 2px rgba(0, 0, 0, 0.3));\n",
              "      fill: #FFFFFF;\n",
              "    }\n",
              "  </style>\n",
              "\n",
              "      <script>\n",
              "        const buttonEl =\n",
              "          document.querySelector('#df-a4e89385-2c24-4327-946a-80a6272683ad button.colab-df-convert');\n",
              "        buttonEl.style.display =\n",
              "          google.colab.kernel.accessAllowed ? 'block' : 'none';\n",
              "\n",
              "        async function convertToInteractive(key) {\n",
              "          const element = document.querySelector('#df-a4e89385-2c24-4327-946a-80a6272683ad');\n",
              "          const dataTable =\n",
              "            await google.colab.kernel.invokeFunction('convertToInteractive',\n",
              "                                                     [key], {});\n",
              "          if (!dataTable) return;\n",
              "\n",
              "          const docLinkHtml = 'Like what you see? Visit the ' +\n",
              "            '<a target=\"_blank\" href=https://colab.research.google.com/notebooks/data_table.ipynb>data table notebook</a>'\n",
              "            + ' to learn more about interactive tables.';\n",
              "          element.innerHTML = '';\n",
              "          dataTable['output_type'] = 'display_data';\n",
              "          await google.colab.output.renderOutput(dataTable, element);\n",
              "          const docLink = document.createElement('div');\n",
              "          docLink.innerHTML = docLinkHtml;\n",
              "          element.appendChild(docLink);\n",
              "        }\n",
              "      </script>\n",
              "    </div>\n",
              "  </div>\n",
              "  "
            ]
          },
          "metadata": {},
          "execution_count": 32
        }
      ]
    },
    {
      "cell_type": "markdown",
      "source": [
        "## Analysing the popularity variable\n",
        "We could make further investigations about the most present songs in the dataset and check if our dataset contains more popular or not popular songs"
      ],
      "metadata": {
        "id": "v8vLpM2cF3Bq"
      }
    },
    {
      "cell_type": "code",
      "source": [
        "#displot function (DIS for distribution) for visualizing the distribution of the popularity variable\n",
        "sns.displot(data=song_metrics, x='popularity')"
      ],
      "metadata": {
        "colab": {
          "base_uri": "https://localhost:8080/",
          "height": 387
        },
        "id": "zZTpfzvhGEb5",
        "outputId": "fb75ded9-6f66-4283-feb0-c3378195a375"
      },
      "execution_count": 33,
      "outputs": [
        {
          "output_type": "execute_result",
          "data": {
            "text/plain": [
              "<seaborn.axisgrid.FacetGrid at 0x7f5a66ef99a0>"
            ]
          },
          "metadata": {},
          "execution_count": 33
        },
        {
          "output_type": "display_data",
          "data": {
            "text/plain": [
              "<Figure size 360x360 with 1 Axes>"
            ],
            "image/png": "[encoded data removed]"
          },
          "metadata": {
            "needs_background": "light"
          }
        }
      ]
    },
    {
      "cell_type": "markdown",
      "source": [
        "⬇ Here I used 50 as a threshold to check the amount of popular/unpopular songs. The mean of popularity is 62.sth but we will check it again after the data cleaning.\n",
        ":"
      ],
      "metadata": {
        "id": "RSgTHPhWYxGh"
      }
    },
    {
      "cell_type": "code",
      "source": [
        "x=song_metrics.query('popularity>50')\n",
        "len(x)"
      ],
      "metadata": {
        "colab": {
          "base_uri": "https://localhost:8080/"
        },
        "id": "WrBPoqzaG_uf",
        "outputId": "d7962696-a2e4-41b5-91bd-7ee1f9dddde5"
      },
      "execution_count": 110,
      "outputs": [
        {
          "output_type": "execute_result",
          "data": {
            "text/plain": [
              "459"
            ]
          },
          "metadata": {},
          "execution_count": 110
        }
      ]
    },
    {
      "cell_type": "code",
      "source": [
        "x=song_metrics.query('popularity<50')\n",
        "len(x)"
      ],
      "metadata": {
        "colab": {
          "base_uri": "https://localhost:8080/"
        },
        "id": "z5g0_dDWHdaN",
        "outputId": "cfbe1375-de35-4614-a033-45774eb93762"
      },
      "execution_count": 111,
      "outputs": [
        {
          "output_type": "execute_result",
          "data": {
            "text/plain": [
              "128"
            ]
          },
          "metadata": {},
          "execution_count": 111
        }
      ]
    },
    {
      "cell_type": "code",
      "source": [
        "sns.boxplot(data=song_metrics, x='popularity')"
      ],
      "metadata": {
        "colab": {
          "base_uri": "https://localhost:8080/",
          "height": 297
        },
        "id": "EoGQCUpzIhY8",
        "outputId": "c9004f22-4b1e-4e94-bb38-ba54bce63c6d"
      },
      "execution_count": 114,
      "outputs": [
        {
          "output_type": "execute_result",
          "data": {
            "text/plain": [
              "<matplotlib.axes._subplots.AxesSubplot at 0x7f360a45adf0>"
            ]
          },
          "metadata": {},
          "execution_count": 114
        },
        {
          "output_type": "display_data",
          "data": {
            "text/plain": [
              "<Figure size 432x288 with 1 Axes>"
            ],
            "image/png": "[encoded data removed]"
          },
          "metadata": {
            "needs_background": "light"
          }
        }
      ]
    },
    {
      "cell_type": "code",
      "source": [
        "sns.violinplot(data=song_metrics, x='popularity')"
      ],
      "metadata": {
        "colab": {
          "base_uri": "https://localhost:8080/",
          "height": 297
        },
        "id": "X8e3okT0Iu-7",
        "outputId": "2300bc11-df9a-4d44-989b-66803caf5ce8"
      },
      "execution_count": 115,
      "outputs": [
        {
          "output_type": "execute_result",
          "data": {
            "text/plain": [
              "<matplotlib.axes._subplots.AxesSubplot at 0x7f3609e6acd0>"
            ]
          },
          "metadata": {},
          "execution_count": 115
        },
        {
          "output_type": "display_data",
          "data": {
            "text/plain": [
              "<Figure size 432x288 with 1 Axes>"
            ],
            "image/png": "[encoded data removed]"
          },
          "metadata": {
            "needs_background": "light"
          }
        }
      ]
    },
    {
      "cell_type": "markdown",
      "source": [
        "We can observe that most of the songs have a medium to high popularity. Should we compare with a general dataset?\n"
      ],
      "metadata": {
        "id": "O7aDO0gEH9g8"
      }
    },
    {
      "cell_type": "markdown",
      "source": [
        "## most frequent **songs**\n",
        "The most present songs in our dataset"
      ],
      "metadata": {
        "id": "Ji7-vub6VuZk"
      }
    },
    {
      "cell_type": "code",
      "source": [
        "song_metrics['song'].value_counts().nlargest(10)\n"
      ],
      "metadata": {
        "colab": {
          "base_uri": "https://localhost:8080/"
        },
        "id": "asg8vz63Vylr",
        "outputId": "48f73060-49a3-4fbe-dde1-6736c4ee9736"
      },
      "execution_count": 135,
      "outputs": [
        {
          "output_type": "execute_result",
          "data": {
            "text/plain": [
              "Starboy                                       21\n",
              "Closer                                        13\n",
              "Fake Love                                     11\n",
              "Don't Wanna Know (feat. Kendrick Lamar)        7\n",
              "One Dance                                      7\n",
              "Side To Side                                   6\n",
              "That's What I Like                             6\n",
              "We Don't Talk Anymore (feat. Selena Gomez)     5\n",
              "Too Good                                       5\n",
              "All We Know                                    5\n",
              "Name: song, dtype: int64"
            ]
          },
          "metadata": {},
          "execution_count": 135
        }
      ]
    },
    {
      "cell_type": "markdown",
      "source": [
        "## most frequent Artists"
      ],
      "metadata": {
        "id": "Qm90yvfdQ3oU"
      }
    },
    {
      "cell_type": "code",
      "source": [
        "song_metrics['artist'].value_counts().nlargest(10)\n"
      ],
      "metadata": {
        "colab": {
          "base_uri": "https://localhost:8080/"
        },
        "id": "pNnWooAiRJ0A",
        "outputId": "7266979d-ec70-446c-88ed-5e458d0a49d1"
      },
      "execution_count": 133,
      "outputs": [
        {
          "output_type": "execute_result",
          "data": {
            "text/plain": [
              "Drake               31\n",
              "The Weeknd          26\n",
              "The Chainsmokers    20\n",
              "Ariana Grande        9\n",
              "Bruno Mars           9\n",
              "Travis Scott         9\n",
              "Kanye West           9\n",
              "Maroon 5             8\n",
              "Sia                  7\n",
              "Adele                7\n",
              "Name: artist, dtype: int64"
            ]
          },
          "metadata": {},
          "execution_count": 133
        }
      ]
    },
    {
      "cell_type": "code",
      "source": [],
      "metadata": {
        "id": "dJN11CcjX92V"
      },
      "execution_count": null,
      "outputs": []
    },
    {
      "cell_type": "markdown",
      "source": [
        "## most frequent Genres\n",
        "\n",
        "we have to fill the genre values! This will be done through Wikidata"
      ],
      "metadata": {
        "id": "_Pe2nUMFV_TV"
      }
    },
    {
      "cell_type": "code",
      "source": [
        "song_metrics['genres'].value_counts().nlargest(10)\n"
      ],
      "metadata": {
        "colab": {
          "base_uri": "https://localhost:8080/"
        },
        "id": "SA5G7K2HWBtO",
        "outputId": "805ce67e-f45c-4bfa-a305-d13744e4a5c7"
      },
      "execution_count": 136,
      "outputs": [
        {
          "output_type": "execute_result",
          "data": {
            "text/plain": [
              "[]                                                                        33\n",
              "['canadian hip hop', 'canadian pop', 'hip hop', 'pop rap', 'rap']         31\n",
              "['canadian pop', 'pop', 'rap']                                            26\n",
              "['dance pop', 'pop', 'post-teen pop']                                     21\n",
              "['edm', 'electropop', 'pop', 'tropical house']                            20\n",
              "['pop']                                                                   20\n",
              "['hip hop', 'pop', 'pop rap', 'rap', 'southern hip hop', 'trap music']    14\n",
              "['pop', 'pop rap', 'rap']                                                  9\n",
              "['pop', 'post-teen pop']                                                   9\n",
              "['pop rap', 'rap']                                                         9\n",
              "Name: genres, dtype: int64"
            ]
          },
          "metadata": {},
          "execution_count": 136
        }
      ]
    },
    {
      "cell_type": "markdown",
      "source": [
        "# Merging musicData and song_metrics\n",
        "Could this merge be useful? Here we should have 3 rows for every id containing each the info of one of the 3 songs preferred. </br>\n",
        "We have in this dataframe data about genres and artist aligned to mental health information.\n",
        "Probably we have to remove the duplicate columns (the ones about tracks' energy, dance...).\n",
        "\n"
      ],
      "metadata": {
        "id": "QgcX3Oe9D-zT"
      }
    },
    {
      "cell_type": "code",
      "source": [
        "#here we merge the 2 dataframes\n",
        "result = pd.merge(df_music, song_metrics, on=\"id\")\n",
        "result"
      ],
      "metadata": {
        "id": "c9DkosR-r-hD"
      },
      "execution_count": null,
      "outputs": []
    },
    {
      "cell_type": "code",
      "source": [
        "no_id =result.drop(['energy_y','dance_y','tempo_y', 'liveness_y', 'acoustic_y', 'valence_y', 'instrumental_y', 'popularity_y'], axis=1)\n",
        "corr_df = no_id.corr(method='pearson')\n",
        "plt.figure(figsize = (14,6))\n",
        "heatmap=sns.heatmap(corr_df, annot=True, fmt ='.1g', vmin =-1, center=0, cmap='inferno', linewidths=1, linecolor='Black')\n",
        "heatmap.set_title('Correlation HeatMap Between Variables')\n",
        "heatmap.set_xticklabels(heatmap.get_xticklabels(), rotation=90)"
      ],
      "metadata": {
        "id": "HDB6AkfAQH--"
      },
      "execution_count": null,
      "outputs": []
    },
    {
      "cell_type": "markdown",
      "source": [
        "---\n",
        "# **Data integration with spotify and wikidata**\n",
        "\n",
        "---\n",
        "\n",
        "\n",
        "* we must add the genre to all the songs taking it from wikidata\n",
        "* we must add the artist when missing\n",
        "* we must add energy, valence, tempo, ... where missing (should be the same row missing the genre and the artist)\n",
        "* we could add the release date of songs?\n",
        "* we could also add the text if we find it? and do a sentiment analysis for it? A source for the texts is the API of Genius Lyrics\n",
        "\n",
        "\n",
        "\n"
      ],
      "metadata": {
        "id": "-_7dbxswSVKU"
      }
    },
    {
      "cell_type": "markdown",
      "source": [
        "# Wikidata\n",
        "\n",
        "we could search for artists and genres in wikidata. We could prepare a list of titles/ uri (maybe uris are more correct) about which querying data.<br>\n",
        "Some useful entities:\n",
        "\n",
        "\n",
        "*   wd:Q134556 = single\n",
        "*   wd:Q7366 = song\n",
        "\n",
        "and properties:\n",
        "\n",
        "*   wdt:P31 = instance of\n",
        "*   wdt:P136 = genre \n",
        "*   wdt:P175 = performer\n",
        " \n"
      ],
      "metadata": {
        "id": "zCb_aP1PQHow"
      }
    },
    {
      "cell_type": "code",
      "source": [
        "!pip install rdflib \n",
        "import rdflib\n",
        "!pip install SPARQLWrapper\n",
        "from SPARQLWrapper import SPARQLWrapper, JSON\n",
        "import ssl"
      ],
      "metadata": {
        "colab": {
          "base_uri": "https://localhost:8080/"
        },
        "id": "A6_ZztqQRH6T",
        "outputId": "2e34786a-3a81-47b3-e1f7-cfe33f51c147"
      },
      "execution_count": 31,
      "outputs": [
        {
          "output_type": "stream",
          "name": "stdout",
          "text": [
            "Looking in indexes: https://pypi.org/simple, https://us-python.pkg.dev/colab-wheels/public/simple/\n",
            "Requirement already satisfied: rdflib in /usr/local/lib/python3.8/dist-packages (6.2.0)\n",
            "Requirement already satisfied: pyparsing in /usr/local/lib/python3.8/dist-packages (from rdflib) (3.0.9)\n",
            "Requirement already satisfied: setuptools in /usr/local/lib/python3.8/dist-packages (from rdflib) (57.4.0)\n",
            "Requirement already satisfied: isodate in /usr/local/lib/python3.8/dist-packages (from rdflib) (0.6.1)\n",
            "Requirement already satisfied: six in /usr/local/lib/python3.8/dist-packages (from isodate->rdflib) (1.15.0)\n",
            "Looking in indexes: https://pypi.org/simple, https://us-python.pkg.dev/colab-wheels/public/simple/\n",
            "Requirement already satisfied: SPARQLWrapper in /usr/local/lib/python3.8/dist-packages (2.0.0)\n",
            "Requirement already satisfied: rdflib>=6.1.1 in /usr/local/lib/python3.8/dist-packages (from SPARQLWrapper) (6.2.0)\n",
            "Requirement already satisfied: setuptools in /usr/local/lib/python3.8/dist-packages (from rdflib>=6.1.1->SPARQLWrapper) (57.4.0)\n",
            "Requirement already satisfied: isodate in /usr/local/lib/python3.8/dist-packages (from rdflib>=6.1.1->SPARQLWrapper) (0.6.1)\n",
            "Requirement already satisfied: pyparsing in /usr/local/lib/python3.8/dist-packages (from rdflib>=6.1.1->SPARQLWrapper) (3.0.9)\n",
            "Requirement already satisfied: six in /usr/local/lib/python3.8/dist-packages (from isodate->rdflib>=6.1.1->SPARQLWrapper) (1.15.0)\n"
          ]
        }
      ]
    },
    {
      "cell_type": "code",
      "source": [
        "# if you have mac and you run this locally, uncomment\n",
        "#ssl._create_default_https_context = ssl._create_unverified_context\n",
        "\n",
        "# get the endpoint API\n",
        "wikidata_endpoint = \"https://query.wikidata.org/bigdata/namespace/wdq/sparql\"\n",
        "# set the endpoint \n",
        "sparql_wd = SPARQLWrapper(wikidata_endpoint)\n",
        "\n",
        "\n",
        "# prepare the values to be queried\n",
        "#songs = \"\" #a string of titles\n",
        "#artist = \"\" #string of artists\n",
        "#we should obtain these 2 strings by joining the values of the corresponding columns in the dataframe.\n",
        "\n",
        "#or (maybe better) we have to iterate on each row, take the song and artist and do the corresponding query\n",
        "noNa=song_metrics.fillna(\"\")\n",
        "for index,row in noNa.iterrows():\n",
        "  song_title = row[\"song\"]\n",
        "  performer = row[\"artist\"]\n",
        "  \n",
        "\n",
        "# we type in the WHERE close this as the professor does in a tutorial for including a variable in the query:\n",
        "# VALUES ?song {\"\"\"+songs+\"\"\"} . # look how we include a variable in a query string!\n",
        "\n",
        "#we can run this only after cleaning the data!\n",
        "  query = [\"\"\" \n",
        "        prefix rdfs:  <http://www.w3.org/2000/01/rdf-schema#> \n",
        "        PREFIX wd: <http://www.wikidata.org/entity/> \n",
        "        PREFIX wdt: <http://www.wikidata.org/prop/direct/> \n",
        "        PREFIX wikibase: <http://wikiba.se/ontology#> \n",
        "\n",
        "        SELECT ?s   ?performer\n",
        "        WHERE \n",
        "        { \n",
        "          ?s wdt:P31 wd:Q134556;\n",
        "            rdfs:label  \"\"\", \"'\", song_title, \"'\" , \"\"\" ;\n",
        "          \n",
        "            wdt:P175  ?performer .\n",
        "          ?performer rdfs:label \"\"\", \"'\", performer, \"'\", \"\"\".  \n",
        "        }     \n",
        "    \"\"\"]\n",
        "  joined=\" \".join(query)\n",
        "  print(joined)\n",
        "    # set the query\n",
        "  sparql_wd.setQuery(joined)\n",
        "    # set the returned format\n",
        "  sparql_wd.setReturnFormat(JSON)\n",
        "    # get the results\n",
        "  results_songs = sparql_wd.query().convert()\n",
        "  print(results_songs)\n"
      ],
      "metadata": {
        "colab": {
          "base_uri": "https://localhost:8080/",
          "height": 1000
        },
        "id": "V7pzvQWlP8HQ",
        "outputId": "72dec5cb-9d7d-49a3-f6f8-2040dd86167b"
      },
      "execution_count": 70,
      "outputs": [
        {
          "output_type": "stream",
          "name": "stdout",
          "text": [
            " \n",
            "        prefix rdfs:  <http://www.w3.org/2000/01/rdf-schema#> \n",
            "        PREFIX wd: <http://www.wikidata.org/entity/> \n",
            "        PREFIX wdt: <http://www.wikidata.org/prop/direct/> \n",
            "        PREFIX wikibase: <http://wikiba.se/ontology#> \n",
            "\n",
            "        SELECT ?s   ?performer\n",
            "        WHERE \n",
            "        { \n",
            "          ?s wdt:P31 wd:Q134556;\n",
            "            rdfs:label   ' Too Good '  ;\n",
            "          \n",
            "            wdt:P175  ?performer .\n",
            "          ?performer rdfs:label  ' Drake ' .  \n",
            "        }     \n",
            "    \n",
            "{'head': {'vars': ['s', 'performer']}, 'results': {'bindings': []}}\n",
            " \n",
            "        prefix rdfs:  <http://www.w3.org/2000/01/rdf-schema#> \n",
            "        PREFIX wd: <http://www.wikidata.org/entity/> \n",
            "        PREFIX wdt: <http://www.wikidata.org/prop/direct/> \n",
            "        PREFIX wikibase: <http://wikiba.se/ontology#> \n",
            "\n",
            "        SELECT ?s   ?performer\n",
            "        WHERE \n",
            "        { \n",
            "          ?s wdt:P31 wd:Q134556;\n",
            "            rdfs:label   ' Trust Nobody (feat. Selena Gomez & Tory Lanez) '  ;\n",
            "          \n",
            "            wdt:P175  ?performer .\n",
            "          ?performer rdfs:label  ' Cashmere Cat ' .  \n",
            "        }     \n",
            "    \n",
            "{'head': {'vars': ['s', 'performer']}, 'results': {'bindings': []}}\n",
            " \n",
            "        prefix rdfs:  <http://www.w3.org/2000/01/rdf-schema#> \n",
            "        PREFIX wd: <http://www.wikidata.org/entity/> \n",
            "        PREFIX wdt: <http://www.wikidata.org/prop/direct/> \n",
            "        PREFIX wikibase: <http://wikiba.se/ontology#> \n",
            "\n",
            "        SELECT ?s   ?performer\n",
            "        WHERE \n",
            "        { \n",
            "          ?s wdt:P31 wd:Q134556;\n",
            "            rdfs:label   ' Don't Wanna Know Maroon5 Kendrick Lamar '  ;\n",
            "          \n",
            "            wdt:P175  ?performer .\n",
            "          ?performer rdfs:label  '  ' .  \n",
            "        }     \n",
            "    \n"
          ]
        },
        {
          "output_type": "error",
          "ename": "QueryBadFormed",
          "evalue": "ignored",
          "traceback": [
            "\u001b[0;31m---------------------------------------------------------------------------\u001b[0m",
            "\u001b[0;31mHTTPError\u001b[0m                                 Traceback (most recent call last)",
            "\u001b[0;32m/usr/local/lib/python3.8/dist-packages/SPARQLWrapper/Wrapper.py\u001b[0m in \u001b[0;36m_query\u001b[0;34m(self)\u001b[0m\n\u001b[1;32m    925\u001b[0m             \u001b[0;32melse\u001b[0m\u001b[0;34m:\u001b[0m\u001b[0;34m\u001b[0m\u001b[0;34m\u001b[0m\u001b[0m\n\u001b[0;32m--> 926\u001b[0;31m                 \u001b[0mresponse\u001b[0m \u001b[0;34m=\u001b[0m \u001b[0murlopener\u001b[0m\u001b[0;34m(\u001b[0m\u001b[0mrequest\u001b[0m\u001b[0;34m)\u001b[0m\u001b[0;34m\u001b[0m\u001b[0;34m\u001b[0m\u001b[0m\n\u001b[0m\u001b[1;32m    927\u001b[0m             \u001b[0;32mreturn\u001b[0m \u001b[0mresponse\u001b[0m\u001b[0;34m,\u001b[0m \u001b[0mself\u001b[0m\u001b[0;34m.\u001b[0m\u001b[0mreturnFormat\u001b[0m\u001b[0;34m\u001b[0m\u001b[0;34m\u001b[0m\u001b[0m\n",
            "\u001b[0;32m/usr/lib/python3.8/urllib/request.py\u001b[0m in \u001b[0;36murlopen\u001b[0;34m(url, data, timeout, cafile, capath, cadefault, context)\u001b[0m\n\u001b[1;32m    221\u001b[0m         \u001b[0mopener\u001b[0m \u001b[0;34m=\u001b[0m \u001b[0m_opener\u001b[0m\u001b[0;34m\u001b[0m\u001b[0;34m\u001b[0m\u001b[0m\n\u001b[0;32m--> 222\u001b[0;31m     \u001b[0;32mreturn\u001b[0m \u001b[0mopener\u001b[0m\u001b[0;34m.\u001b[0m\u001b[0mopen\u001b[0m\u001b[0;34m(\u001b[0m\u001b[0murl\u001b[0m\u001b[0;34m,\u001b[0m \u001b[0mdata\u001b[0m\u001b[0;34m,\u001b[0m \u001b[0mtimeout\u001b[0m\u001b[0;34m)\u001b[0m\u001b[0;34m\u001b[0m\u001b[0;34m\u001b[0m\u001b[0m\n\u001b[0m\u001b[1;32m    223\u001b[0m \u001b[0;34m\u001b[0m\u001b[0m\n",
            "\u001b[0;32m/usr/lib/python3.8/urllib/request.py\u001b[0m in \u001b[0;36mopen\u001b[0;34m(self, fullurl, data, timeout)\u001b[0m\n\u001b[1;32m    530\u001b[0m             \u001b[0mmeth\u001b[0m \u001b[0;34m=\u001b[0m \u001b[0mgetattr\u001b[0m\u001b[0;34m(\u001b[0m\u001b[0mprocessor\u001b[0m\u001b[0;34m,\u001b[0m \u001b[0mmeth_name\u001b[0m\u001b[0;34m)\u001b[0m\u001b[0;34m\u001b[0m\u001b[0;34m\u001b[0m\u001b[0m\n\u001b[0;32m--> 531\u001b[0;31m             \u001b[0mresponse\u001b[0m \u001b[0;34m=\u001b[0m \u001b[0mmeth\u001b[0m\u001b[0;34m(\u001b[0m\u001b[0mreq\u001b[0m\u001b[0;34m,\u001b[0m \u001b[0mresponse\u001b[0m\u001b[0;34m)\u001b[0m\u001b[0;34m\u001b[0m\u001b[0;34m\u001b[0m\u001b[0m\n\u001b[0m\u001b[1;32m    532\u001b[0m \u001b[0;34m\u001b[0m\u001b[0m\n",
            "\u001b[0;32m/usr/lib/python3.8/urllib/request.py\u001b[0m in \u001b[0;36mhttp_response\u001b[0;34m(self, request, response)\u001b[0m\n\u001b[1;32m    639\u001b[0m         \u001b[0;32mif\u001b[0m \u001b[0;32mnot\u001b[0m \u001b[0;34m(\u001b[0m\u001b[0;36m200\u001b[0m \u001b[0;34m<=\u001b[0m \u001b[0mcode\u001b[0m \u001b[0;34m<\u001b[0m \u001b[0;36m300\u001b[0m\u001b[0;34m)\u001b[0m\u001b[0;34m:\u001b[0m\u001b[0;34m\u001b[0m\u001b[0;34m\u001b[0m\u001b[0m\n\u001b[0;32m--> 640\u001b[0;31m             response = self.parent.error(\n\u001b[0m\u001b[1;32m    641\u001b[0m                 'http', request, response, code, msg, hdrs)\n",
            "\u001b[0;32m/usr/lib/python3.8/urllib/request.py\u001b[0m in \u001b[0;36merror\u001b[0;34m(self, proto, *args)\u001b[0m\n\u001b[1;32m    568\u001b[0m             \u001b[0margs\u001b[0m \u001b[0;34m=\u001b[0m \u001b[0;34m(\u001b[0m\u001b[0mdict\u001b[0m\u001b[0;34m,\u001b[0m \u001b[0;34m'default'\u001b[0m\u001b[0;34m,\u001b[0m \u001b[0;34m'http_error_default'\u001b[0m\u001b[0;34m)\u001b[0m \u001b[0;34m+\u001b[0m \u001b[0morig_args\u001b[0m\u001b[0;34m\u001b[0m\u001b[0;34m\u001b[0m\u001b[0m\n\u001b[0;32m--> 569\u001b[0;31m             \u001b[0;32mreturn\u001b[0m \u001b[0mself\u001b[0m\u001b[0;34m.\u001b[0m\u001b[0m_call_chain\u001b[0m\u001b[0;34m(\u001b[0m\u001b[0;34m*\u001b[0m\u001b[0margs\u001b[0m\u001b[0;34m)\u001b[0m\u001b[0;34m\u001b[0m\u001b[0;34m\u001b[0m\u001b[0m\n\u001b[0m\u001b[1;32m    570\u001b[0m \u001b[0;34m\u001b[0m\u001b[0m\n",
            "\u001b[0;32m/usr/lib/python3.8/urllib/request.py\u001b[0m in \u001b[0;36m_call_chain\u001b[0;34m(self, chain, kind, meth_name, *args)\u001b[0m\n\u001b[1;32m    501\u001b[0m             \u001b[0mfunc\u001b[0m \u001b[0;34m=\u001b[0m \u001b[0mgetattr\u001b[0m\u001b[0;34m(\u001b[0m\u001b[0mhandler\u001b[0m\u001b[0;34m,\u001b[0m \u001b[0mmeth_name\u001b[0m\u001b[0;34m)\u001b[0m\u001b[0;34m\u001b[0m\u001b[0;34m\u001b[0m\u001b[0m\n\u001b[0;32m--> 502\u001b[0;31m             \u001b[0mresult\u001b[0m \u001b[0;34m=\u001b[0m \u001b[0mfunc\u001b[0m\u001b[0;34m(\u001b[0m\u001b[0;34m*\u001b[0m\u001b[0margs\u001b[0m\u001b[0;34m)\u001b[0m\u001b[0;34m\u001b[0m\u001b[0;34m\u001b[0m\u001b[0m\n\u001b[0m\u001b[1;32m    503\u001b[0m             \u001b[0;32mif\u001b[0m \u001b[0mresult\u001b[0m \u001b[0;32mis\u001b[0m \u001b[0;32mnot\u001b[0m \u001b[0;32mNone\u001b[0m\u001b[0;34m:\u001b[0m\u001b[0;34m\u001b[0m\u001b[0;34m\u001b[0m\u001b[0m\n",
            "\u001b[0;32m/usr/lib/python3.8/urllib/request.py\u001b[0m in \u001b[0;36mhttp_error_default\u001b[0;34m(self, req, fp, code, msg, hdrs)\u001b[0m\n\u001b[1;32m    648\u001b[0m     \u001b[0;32mdef\u001b[0m \u001b[0mhttp_error_default\u001b[0m\u001b[0;34m(\u001b[0m\u001b[0mself\u001b[0m\u001b[0;34m,\u001b[0m \u001b[0mreq\u001b[0m\u001b[0;34m,\u001b[0m \u001b[0mfp\u001b[0m\u001b[0;34m,\u001b[0m \u001b[0mcode\u001b[0m\u001b[0;34m,\u001b[0m \u001b[0mmsg\u001b[0m\u001b[0;34m,\u001b[0m \u001b[0mhdrs\u001b[0m\u001b[0;34m)\u001b[0m\u001b[0;34m:\u001b[0m\u001b[0;34m\u001b[0m\u001b[0;34m\u001b[0m\u001b[0m\n\u001b[0;32m--> 649\u001b[0;31m         \u001b[0;32mraise\u001b[0m \u001b[0mHTTPError\u001b[0m\u001b[0;34m(\u001b[0m\u001b[0mreq\u001b[0m\u001b[0;34m.\u001b[0m\u001b[0mfull_url\u001b[0m\u001b[0;34m,\u001b[0m \u001b[0mcode\u001b[0m\u001b[0;34m,\u001b[0m \u001b[0mmsg\u001b[0m\u001b[0;34m,\u001b[0m \u001b[0mhdrs\u001b[0m\u001b[0;34m,\u001b[0m \u001b[0mfp\u001b[0m\u001b[0;34m)\u001b[0m\u001b[0;34m\u001b[0m\u001b[0;34m\u001b[0m\u001b[0m\n\u001b[0m\u001b[1;32m    650\u001b[0m \u001b[0;34m\u001b[0m\u001b[0m\n",
            "\u001b[0;31mHTTPError\u001b[0m: HTTP Error 400: Bad Request",
            "\nDuring handling of the above exception, another exception occurred:\n",
            "\u001b[0;31mQueryBadFormed\u001b[0m                            Traceback (most recent call last)",
            "\u001b[0;32m<ipython-input-70-92c004996792>\u001b[0m in \u001b[0;36m<module>\u001b[0;34m\u001b[0m\n\u001b[1;32m     47\u001b[0m   \u001b[0msparql_wd\u001b[0m\u001b[0;34m.\u001b[0m\u001b[0msetReturnFormat\u001b[0m\u001b[0;34m(\u001b[0m\u001b[0mJSON\u001b[0m\u001b[0;34m)\u001b[0m\u001b[0;34m\u001b[0m\u001b[0;34m\u001b[0m\u001b[0m\n\u001b[1;32m     48\u001b[0m     \u001b[0;31m# get the results\u001b[0m\u001b[0;34m\u001b[0m\u001b[0;34m\u001b[0m\u001b[0;34m\u001b[0m\u001b[0m\n\u001b[0;32m---> 49\u001b[0;31m   \u001b[0mresults_songs\u001b[0m \u001b[0;34m=\u001b[0m \u001b[0msparql_wd\u001b[0m\u001b[0;34m.\u001b[0m\u001b[0mquery\u001b[0m\u001b[0;34m(\u001b[0m\u001b[0;34m)\u001b[0m\u001b[0;34m.\u001b[0m\u001b[0mconvert\u001b[0m\u001b[0;34m(\u001b[0m\u001b[0;34m)\u001b[0m\u001b[0;34m\u001b[0m\u001b[0;34m\u001b[0m\u001b[0m\n\u001b[0m\u001b[1;32m     50\u001b[0m   \u001b[0mprint\u001b[0m\u001b[0;34m(\u001b[0m\u001b[0mresults_songs\u001b[0m\u001b[0;34m)\u001b[0m\u001b[0;34m\u001b[0m\u001b[0;34m\u001b[0m\u001b[0m\n",
            "\u001b[0;32m/usr/local/lib/python3.8/dist-packages/SPARQLWrapper/Wrapper.py\u001b[0m in \u001b[0;36mquery\u001b[0;34m(self)\u001b[0m\n\u001b[1;32m    958\u001b[0m         \u001b[0;34m:\u001b[0m\u001b[0mrtype\u001b[0m\u001b[0;34m:\u001b[0m \u001b[0;34m:\u001b[0m\u001b[0;32mclass\u001b[0m\u001b[0;34m:\u001b[0m\u001b[0;31m`\u001b[0m\u001b[0mQueryResult\u001b[0m\u001b[0;31m`\u001b[0m \u001b[0minstance\u001b[0m\u001b[0;34m\u001b[0m\u001b[0;34m\u001b[0m\u001b[0m\n\u001b[1;32m    959\u001b[0m         \"\"\"\n\u001b[0;32m--> 960\u001b[0;31m         \u001b[0;32mreturn\u001b[0m \u001b[0mQueryResult\u001b[0m\u001b[0;34m(\u001b[0m\u001b[0mself\u001b[0m\u001b[0;34m.\u001b[0m\u001b[0m_query\u001b[0m\u001b[0;34m(\u001b[0m\u001b[0;34m)\u001b[0m\u001b[0;34m)\u001b[0m\u001b[0;34m\u001b[0m\u001b[0;34m\u001b[0m\u001b[0m\n\u001b[0m\u001b[1;32m    961\u001b[0m \u001b[0;34m\u001b[0m\u001b[0m\n\u001b[1;32m    962\u001b[0m     \u001b[0;32mdef\u001b[0m \u001b[0mqueryAndConvert\u001b[0m\u001b[0;34m(\u001b[0m\u001b[0mself\u001b[0m\u001b[0;34m)\u001b[0m \u001b[0;34m->\u001b[0m \u001b[0;34m\"QueryResult.ConvertResult\"\u001b[0m\u001b[0;34m:\u001b[0m\u001b[0;34m\u001b[0m\u001b[0;34m\u001b[0m\u001b[0m\n",
            "\u001b[0;32m/usr/local/lib/python3.8/dist-packages/SPARQLWrapper/Wrapper.py\u001b[0m in \u001b[0;36m_query\u001b[0;34m(self)\u001b[0m\n\u001b[1;32m    928\u001b[0m         \u001b[0;32mexcept\u001b[0m \u001b[0murllib\u001b[0m\u001b[0;34m.\u001b[0m\u001b[0merror\u001b[0m\u001b[0;34m.\u001b[0m\u001b[0mHTTPError\u001b[0m \u001b[0;32mas\u001b[0m \u001b[0me\u001b[0m\u001b[0;34m:\u001b[0m\u001b[0;34m\u001b[0m\u001b[0;34m\u001b[0m\u001b[0m\n\u001b[1;32m    929\u001b[0m             \u001b[0;32mif\u001b[0m \u001b[0me\u001b[0m\u001b[0;34m.\u001b[0m\u001b[0mcode\u001b[0m \u001b[0;34m==\u001b[0m \u001b[0;36m400\u001b[0m\u001b[0;34m:\u001b[0m\u001b[0;34m\u001b[0m\u001b[0;34m\u001b[0m\u001b[0m\n\u001b[0;32m--> 930\u001b[0;31m                 \u001b[0;32mraise\u001b[0m \u001b[0mQueryBadFormed\u001b[0m\u001b[0;34m(\u001b[0m\u001b[0me\u001b[0m\u001b[0;34m.\u001b[0m\u001b[0mread\u001b[0m\u001b[0;34m(\u001b[0m\u001b[0;34m)\u001b[0m\u001b[0;34m)\u001b[0m\u001b[0;34m\u001b[0m\u001b[0;34m\u001b[0m\u001b[0m\n\u001b[0m\u001b[1;32m    931\u001b[0m             \u001b[0;32melif\u001b[0m \u001b[0me\u001b[0m\u001b[0;34m.\u001b[0m\u001b[0mcode\u001b[0m \u001b[0;34m==\u001b[0m \u001b[0;36m404\u001b[0m\u001b[0;34m:\u001b[0m\u001b[0;34m\u001b[0m\u001b[0;34m\u001b[0m\u001b[0m\n\u001b[1;32m    932\u001b[0m                 \u001b[0;32mraise\u001b[0m \u001b[0mEndPointNotFound\u001b[0m\u001b[0;34m(\u001b[0m\u001b[0me\u001b[0m\u001b[0;34m.\u001b[0m\u001b[0mread\u001b[0m\u001b[0;34m(\u001b[0m\u001b[0;34m)\u001b[0m\u001b[0;34m)\u001b[0m\u001b[0;34m\u001b[0m\u001b[0;34m\u001b[0m\u001b[0m\n",
            "\u001b[0;31mQueryBadFormed\u001b[0m: QueryBadFormed: A bad request has been sent to the endpoint: probably the SPARQL query is badly formed. \n\nResponse:\nb'SPARQL-QUERY: queryStr= \\n        prefix rdfs:  <http://www.w3.org/2000/01/rdf-schema#> \\n        PREFIX wd: <http://www.wikidata.org/entity/> \\n        PREFIX wdt: <http://www.wikidata.org/prop/direct/> \\n        PREFIX wikibase: <http://wikiba.se/ontology#> \\n\\n        SELECT ?s   ?performer\\n        WHERE \\n        { \\n          ?s wdt:P31 wd:Q134556;\\n            rdfs:label   \\' Don\\'t Wanna Know Maroon5 Kendrick Lamar \\'  ;\\n          \\n            wdt:P175  ?performer .\\n          ?performer rdfs:label  \\'  \\' .  \\n        }     \\n    \\njava.util.concurrent.ExecutionException: org.openrdf.query.MalformedQueryException: Lexical error at line 11, column 33.  Encountered: \" \" (32), after : \"t\"\\n\\tat java.util.concurrent.FutureTask.report(FutureTask.java:122)\\n\\tat java.util.concurrent.FutureTask.get(FutureTask.java:206)\\n\\tat com.bigdata.rdf.sail.webapp.BigdataServlet.submitApiTask(BigdataServlet.java:292)\\n\\tat com.bigdata.rdf.sail.webapp.QueryServlet.doSparqlQuery(QueryServlet.java:678)\\n\\tat com.bigdata.rdf.sail.webapp.QueryServlet.doGet(QueryServlet.java:290)\\n\\tat com.bigdata.rdf.sail.webapp.RESTServlet.doGet(RESTServlet.java:240)\\n\\tat com.bigdata.rdf.sail.webapp.MultiTenancyServlet.doGet(MultiTenancyServlet.java:273)\\n\\tat javax.servlet.http.HttpServlet.service(HttpServlet.java:687)\\n\\tat javax.servlet.http.HttpServlet.service(HttpServlet.java:790)\\n\\tat org.eclipse.jetty.servlet.ServletHolder.handle(ServletHolder.java:865)\\n\\tat org.eclipse.jetty.servlet.Servl..."
          ]
        }
      ]
    },
    {
      "cell_type": "code",
      "source": [
        "# manipulate the result\n",
        "for result in results_songs[\"results\"][\"bindings\"]:\n",
        "    print(result[\"s\"][\"value\"],  result[\"performer\"][\"value\"])"
      ],
      "metadata": {
        "id": "YEneLE9Uoph4"
      },
      "execution_count": null,
      "outputs": []
    },
    {
      "cell_type": "code",
      "source": [
        "# if you have mac and you run this locally, uncomment\n",
        "#ssl._create_default_https_context = ssl._create_unverified_context\n",
        "\n",
        "# get the endpoint API\n",
        "wikidata_endpoint = \"https://query.wikidata.org/bigdata/namespace/wdq/sparql\"\n",
        "\n",
        "# prepare the query : here a query retrieving the genre/performer of all songs having a specific title and performer\n",
        "# we could use a similar query for retrieving the missing genres\n",
        "my_query = \"\"\"\n",
        "PREFIX rdf:<http://www.w3.org/1999/02/22-rdf-syntax-ns#>\n",
        "prefix rdfs:  <http://www.w3.org/2000/01/rdf-schema#> \n",
        "PREFIX wd: <http://www.wikidata.org/entity/> \n",
        "PREFIX wdt: <http://www.wikidata.org/prop/direct/> \n",
        "PREFIX wikibase: <http://wikiba.se/ontology#> \n",
        "\n",
        "SELECT ?s  ?label ?labelgenre ?performerlabel\n",
        "WHERE \n",
        "{?s wdt:P31 wd:Q134556.\n",
        " ?s rdfs:label ?label.\n",
        " ?s wdt:P136 ?genre.\n",
        " ?s wdt:P175 ?performer.\n",
        " ?performer rdfs:label ?performerlabel.\n",
        " ?genre rdfs:label ?labelgenre.\n",
        "  FILTER (REGEX(?label, \"Don't wanna know\", \"i\")).\n",
        "  FILTER(REGEX(?performerlabel, \"Maroon 5\", \"i\")).\n",
        "  filter langMatches(lang(?labelgenre),\"en\").\n",
        "}\n",
        "limit 10\n",
        "\"\"\"\n",
        "# set the endpoint \n",
        "sparql_wd = SPARQLWrapper(wikidata_endpoint)\n",
        "# set the query\n",
        "sparql_wd.setQuery(my_query)\n",
        "# set the returned format\n",
        "sparql_wd.setReturnFormat(JSON)\n",
        "# get the results\n",
        "results = sparql_wd.query().convert()"
      ],
      "metadata": {
        "id": "eeI_mdFQRFek"
      },
      "execution_count": 21,
      "outputs": []
    },
    {
      "cell_type": "code",
      "source": [
        "# manipulate the result\n",
        "for result in results[\"results\"][\"bindings\"]:\n",
        "    print(result[\"label\"][\"value\"], result[\"labelgenre\"][\"value\"], result[\"performerlabel\"][\"value\"])"
      ],
      "metadata": {
        "colab": {
          "base_uri": "https://localhost:8080/"
        },
        "id": "fpJoLcProPtT",
        "outputId": "34cdc5f4-3483-444c-f794-162cfe284ef2"
      },
      "execution_count": 22,
      "outputs": [
        {
          "output_type": "stream",
          "name": "stdout",
          "text": [
            "Don't Wanna Know tropical house Maroon 5\n",
            "Don't Wanna Know tropical house Maroon 5\n",
            "Don't Wanna Know tropical house Maroon 5\n",
            "Don't Wanna Know tropical house Maroon 5\n",
            "Don't Wanna Know tropical house Maroon 5\n",
            "Don't Wanna Know tropical house Maroon 5\n",
            "Don't Wanna Know tropical house Maroon 5\n",
            "Don't Wanna Know tropical house Maroon 5\n",
            "Don't Wanna Know tropical house Maroon 5\n",
            "Don't Wanna Know tropical house Maroon 5\n"
          ]
        }
      ]
    },
    {
      "cell_type": "markdown",
      "source": [
        "# Spotify api for extracting song feaures (and artists maybe)\n",
        "(extracting a list of artists to compare with the strings values of the column 'songs' )\n",
        "\n",
        "\" The first thing we’ll look at is getting keys to use. For this, we need a [Spotify for developers](https://developer.spotify.com/) account. This is the same as a Spotify account, and doesn’t require Spotify Premium. From here, go to the dashboard and “create an app”. Now, we can access a public and private key, needed to use the API.\n",
        "Spotify Credentials Storage and Access\n",
        "\n",
        "Now that we have an app, we can get a client ID and a client secret for this app. Both of these will be required to authenticate with the Spotify web API for our application, and can be thought of as a kind of username and password for the application. It is best practice not to share either of these, but especially don’t share the client secret key. To prevent this, we can keep it in a separate file, which, if you’re using Git for version control, should be Gitignored.\n",
        "\n",
        "Spotify credentials should be stored the in the a secret.txt file with the first line as the credential id and the second line as the secret key:\n",
        "[Screen Shot 2021-12-18 at 12 10 03 AM](https://user-images.githubusercontent.com/55577469/146574104-804def73-54ec-449a-931c-86372d3a07a6.png)\n",
        "\n",
        "\n",
        "\n",
        "To access this credentials, please use the following code:\n",
        "```\n",
        "with open(\"secret.txt\") as f:\n",
        "    secret_ls = f.readlines()\n",
        "    cid = secret_ls[0][:-2]\n",
        "    secret = secret_ls[1]\n",
        "```\n",
        "\n",
        "\"\n",
        "\n",
        "also: https://stepzen.com/blog/mashing-up-the-spotify-and-knowledge-graph-apis"
      ],
      "metadata": {
        "id": "3kdJ-qXGI4pc"
      }
    },
    {
      "cell_type": "markdown",
      "source": [
        " ## Spotipy\n",
        "\n",
        " Spotipy is a lightweight Python library for the Spotify Web API. With Spotipy you get full access to all of the music data provided by the Spotify platform.\n",
        "\n",
        "[Link to spotipy library](https://spotipy.readthedocs.io/en/2.19.0/)\n",
        "\n"
      ],
      "metadata": {
        "id": "sxcYzsVbLpZ0"
      }
    },
    {
      "cell_type": "code",
      "source": [
        "%pip install spotipy\n",
        "import spotipy\n",
        "from spotipy.oauth2 import SpotifyClientCredentials"
      ],
      "metadata": {
        "colab": {
          "base_uri": "https://localhost:8080/",
          "height": 476
        },
        "id": "B57r0C0gI7UC",
        "outputId": "a91530ed-6183-4eb0-d16e-b2bcf76b5473"
      },
      "execution_count": 2,
      "outputs": [
        {
          "output_type": "stream",
          "name": "stdout",
          "text": [
            "Looking in indexes: https://pypi.org/simple, https://us-python.pkg.dev/colab-wheels/public/simple/\n",
            "Collecting spotipy\n",
            "  Downloading spotipy-2.22.0-py3-none-any.whl (28 kB)\n",
            "Collecting urllib3>=1.26.0\n",
            "  Downloading urllib3-1.26.14-py2.py3-none-any.whl (140 kB)\n",
            "\u001b[2K     \u001b[90m━━━━━━━━━━━━━━━━━━━━━━━━━━━━━━━━━━━━━━━\u001b[0m \u001b[32m140.6/140.6 KB\u001b[0m \u001b[31m4.4 MB/s\u001b[0m eta \u001b[36m0:00:00\u001b[0m\n",
            "\u001b[?25hCollecting redis>=3.5.3\n",
            "  Downloading redis-4.4.2-py3-none-any.whl (237 kB)\n",
            "\u001b[2K     \u001b[90m━━━━━━━━━━━━━━━━━━━━━━━━━━━━━━━━━━━━━━\u001b[0m \u001b[32m237.8/237.8 KB\u001b[0m \u001b[31m12.1 MB/s\u001b[0m eta \u001b[36m0:00:00\u001b[0m\n",
            "\u001b[?25hRequirement already satisfied: six>=1.15.0 in /usr/local/lib/python3.8/dist-packages (from spotipy) (1.15.0)\n",
            "Requirement already satisfied: requests>=2.25.0 in /usr/local/lib/python3.8/dist-packages (from spotipy) (2.25.1)\n",
            "Requirement already satisfied: async-timeout>=4.0.2 in /usr/local/lib/python3.8/dist-packages (from redis>=3.5.3->spotipy) (4.0.2)\n",
            "Requirement already satisfied: chardet<5,>=3.0.2 in /usr/local/lib/python3.8/dist-packages (from requests>=2.25.0->spotipy) (4.0.0)\n",
            "Requirement already satisfied: idna<3,>=2.5 in /usr/local/lib/python3.8/dist-packages (from requests>=2.25.0->spotipy) (2.10)\n",
            "Requirement already satisfied: certifi>=2017.4.17 in /usr/local/lib/python3.8/dist-packages (from requests>=2.25.0->spotipy) (2022.12.7)\n",
            "Installing collected packages: urllib3, redis, spotipy\n",
            "  Attempting uninstall: urllib3\n",
            "    Found existing installation: urllib3 1.24.3\n",
            "    Uninstalling urllib3-1.24.3:\n",
            "      Successfully uninstalled urllib3-1.24.3\n",
            "Successfully installed redis-4.4.2 spotipy-2.22.0 urllib3-1.26.14\n"
          ]
        },
        {
          "output_type": "display_data",
          "data": {
            "application/vnd.colab-display-data+json": {
              "pip_warning": {
                "packages": [
                  "urllib3"
                ]
              }
            }
          },
          "metadata": {}
        }
      ]
    },
    {
      "cell_type": "code",
      "source": [
        "# Authentication - without user\n",
        "# we need to create the app\n",
        "client_credentials_manager = SpotifyClientCredentials(client_id=cid, client_secret=secret)\n",
        "sp = spotipy.Spotify(client_credentials_manager = client_credentials_manager)"
      ],
      "metadata": {
        "id": "UVSjpNK7JUBk"
      },
      "execution_count": null,
      "outputs": []
    },
    {
      "cell_type": "code",
      "source": [],
      "metadata": {
        "id": "xgS3qa_3I-K3"
      },
      "execution_count": null,
      "outputs": []
    }
  ]
}
