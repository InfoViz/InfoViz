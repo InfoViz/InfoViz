{
 "cells": [
  {
   "cell_type": "code",
   "execution_count": 1,
   "id": "9eade5c6",
   "metadata": {},
   "outputs": [
    {
     "name": "stdout",
     "output_type": "stream",
     "text": [
      "Requirement already satisfied: spotipy in c:\\users\\camila\\anaconda3\\lib\\site-packages (2.22.1)\n",
      "Requirement already satisfied: redis>=3.5.3 in c:\\users\\camila\\anaconda3\\lib\\site-packages (from spotipy) (4.4.2)\n",
      "Requirement already satisfied: six>=1.15.0 in c:\\users\\camila\\anaconda3\\lib\\site-packages (from spotipy) (1.16.0)\n",
      "Requirement already satisfied: requests>=2.25.0 in c:\\users\\camila\\anaconda3\\lib\\site-packages (from spotipy) (2.26.0)\n",
      "Requirement already satisfied: urllib3>=1.26.0 in c:\\users\\camila\\anaconda3\\lib\\site-packages (from spotipy) (1.26.7)\n",
      "Requirement already satisfied: async-timeout>=4.0.2 in c:\\users\\camila\\anaconda3\\lib\\site-packages (from redis>=3.5.3->spotipy) (4.0.2)\n",
      "Requirement already satisfied: idna<4,>=2.5 in c:\\users\\camila\\anaconda3\\lib\\site-packages (from requests>=2.25.0->spotipy) (3.2)\n",
      "Requirement already satisfied: charset-normalizer~=2.0.0 in c:\\users\\camila\\anaconda3\\lib\\site-packages (from requests>=2.25.0->spotipy) (2.0.4)\n",
      "Requirement already satisfied: certifi>=2017.4.17 in c:\\users\\camila\\anaconda3\\lib\\site-packages (from requests>=2.25.0->spotipy) (2021.10.8)\n"
     ]
    },
    {
     "name": "stderr",
     "output_type": "stream",
     "text": [
      "\n",
      "[notice] A new release of pip available: 22.2.2 -> 22.3.1\n",
      "[notice] To update, run: python.exe -m pip install --upgrade pip\n"
     ]
    }
   ],
   "source": [
    "!pip install spotipy"
   ]
  },
  {
   "cell_type": "code",
   "execution_count": 2,
   "id": "1193babb",
   "metadata": {},
   "outputs": [
    {
     "name": "stdout",
     "output_type": "stream",
     "text": [
      "But You Caint Use My Phone (Mixtape)\n",
      "But You Caint Use My Phone (Mixtape)\n",
      "New Amerykah Part Two: Return Of The Ankh\n",
      "New Amerykah Part One (4th World War) [UK-AU-NZ-Japan Version]\n",
      "New Amerykah Part One (4th World War)\n",
      "New Amerykah Part One (4th World War)\n",
      "Worldwide Underground\n",
      "Worldwide Underground\n",
      "Worldwide Underground\n",
      "Mama's Gun\n",
      "Mama's Gun\n",
      "Baduizm - Special Edition\n",
      "Baduizm\n",
      "Live\n",
      "Erykah Badu\n"
     ]
    }
   ],
   "source": [
    "import spotipy\n",
    "from spotipy.oauth2 import SpotifyClientCredentials\n",
    "\n",
    "badu_uri = 'spotify:artist:7IfculRW2WXyzNQ8djX8WX'\n",
    "spotify = spotipy.Spotify(client_credentials_manager=SpotifyClientCredentials(client_id='461a599f201f45bbb7499fe53a745bdc',\n",
    "        client_secret='97989b9fe01f49f79019c897e11341eb',))\n",
    "\n",
    "results = spotify.artist_albums(badu_uri, album_type='album')\n",
    "albums = results['items']\n",
    "while results['next']:\n",
    "    results = spotify.next(results)\n",
    "    albums.extend(results['items'])\n",
    "\n",
    "for album in albums:\n",
    "    print(album['name'])"
   ]
  },
  {
   "cell_type": "code",
   "execution_count": null,
   "id": "16ddc1b9",
   "metadata": {},
   "outputs": [],
   "source": []
  }
 ],
 "metadata": {
  "kernelspec": {
   "display_name": "Python 3 (ipykernel)",
   "language": "python",
   "name": "python3"
  },
  "language_info": {
   "codemirror_mode": {
    "name": "ipython",
    "version": 3
   },
   "file_extension": ".py",
   "mimetype": "text/x-python",
   "name": "python",
   "nbconvert_exporter": "python",
   "pygments_lexer": "ipython3",
   "version": "3.9.7"
  }
 },
 "nbformat": 4,
 "nbformat_minor": 5
}
